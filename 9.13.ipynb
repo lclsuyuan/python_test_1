{
 "cells": [
  {
   "cell_type": "markdown",
   "metadata": {},
   "source": [
    "# 循环\n",
    "- 循环是一种控制语句块重复执行的结构\n",
    "- while  适用于广度遍历\n",
    "- for    开发中经常使用"
   ]
  },
  {
   "cell_type": "markdown",
   "metadata": {},
   "source": [
    "## while 循环\n",
    "- 当一个条件保持真的时候while循环重复执行语句\n",
    "- while 循环一定要有结束条件，否则很容易进入死循环\n",
    "- while 循环的语法是：\n",
    "\n",
    "    while loop-contunuation-conndition:\n",
    "\n",
    "        Statement"
   ]
  },
  {
   "cell_type": "markdown",
   "metadata": {},
   "source": [
    "## 示例：\n",
    "sum = 0\n",
    "\n",
    "i = 1\n",
    "\n",
    "while i <10:\n",
    "\n",
    "    sum = sum + i\n",
    "    i = i + 1"
   ]
  },
  {
   "cell_type": "code",
   "execution_count": null,
   "metadata": {},
   "outputs": [],
   "source": []
  },
  {
   "cell_type": "markdown",
   "metadata": {},
   "source": [
    "## 错误示例：\n",
    "sum = 0\n",
    "\n",
    "i = 1\n",
    "\n",
    "while i <10:\n",
    "\n",
    "    sum = sum + i\n",
    "\n",
    "i = i + 1\n",
    "- 一旦进入死循环可按 Ctrl + c 停止"
   ]
  },
  {
   "cell_type": "markdown",
   "metadata": {},
   "source": [
    "## EP：\n",
    "![](../Photo/143.png)\n",
    "![](../Photo/144.png)"
   ]
  },
  {
   "cell_type": "markdown",
   "metadata": {},
   "source": [
    "# 验证码\n",
    "- 随机产生四个字母的验证码，如果正确，输出验证码正确。如果错误，产生新的验证码，用户重新输入。\n",
    "- 验证码只能输入三次，如果三次都错，返回“别爬了，我们小网站没什么好爬的”\n",
    "- 密码登录，如果三次错误，账号被锁定\n"
   ]
  },
  {
   "cell_type": "code",
   "execution_count": 1,
   "metadata": {},
   "outputs": [
    {
     "name": "stdout",
     "output_type": "stream",
     "text": [
      "None\n",
      "验证码： 2zq7\n",
      "请输入四位验证码2zq7\n",
      "成功\n"
     ]
    }
   ],
   "source": [
    "import random\n",
    "i = 0\n",
    "yzhm_list = ['a','b','c','d','e','f','g','h','i','j','k','l','m','n','o','p','q','r','s','t','u','v','w','x','y','z','0','1','2','3','4','5','6','7','8','9']\n",
    "while i < 3 :    \n",
    "    random.shuffle(yzhm_list)\n",
    "    #random.shuffle()方法可以将yzhm_list列表随机排序（改变的是原列表）\n",
    "    print(random.shuffle(yzhm_list))\n",
    "    yzhm =  ''.join(yzhm_list[0:4])\n",
    "    #取到随机排列后的列表的前四位，拼接成字符串。\n",
    "    print (\"验证码：\",yzhm)\n",
    "    input_yzhm = input(\"请输入四位验证码\")\n",
    "    if input_yzhm == yzhm :\n",
    "        print(\"成功\")\n",
    "        break\n",
    "    else :\n",
    "        print(\"验证失败\")\n",
    "        i += 1\n",
    "else:\n",
    "    print(\"别爬了。\")\n",
    "#while 自然循环结束后执行else，break也跳过else\n",
    "#在本例中使用else:\n",
    "#     print(\"别爬了。\")只会在三次验证码都失败的时候执行print(\"别爬了。\")，如果直接使用print(\"别爬了。\")与while同样顶格，则无论循环怎么结束\n",
    "#     ，break结束也会执行print(\"别爬了。\")"
   ]
  },
  {
   "cell_type": "markdown",
   "metadata": {},
   "source": [
    "## 尝试死循环"
   ]
  },
  {
   "cell_type": "markdown",
   "metadata": {},
   "source": [
    "## 实例研究：猜数字\n",
    "- 你将要编写一个能够随机生成一个0到10之间的且包括两者的数字程序，这个程序\n",
    "- 提示用户连续地输入数字直到正确，且提示用户输入的数字是过高还是过低"
   ]
  },
  {
   "cell_type": "markdown",
   "metadata": {},
   "source": [
    "## 使用哨兵值来控制循环\n",
    "- 哨兵值来表明输入的结束\n",
    "- ![](../Photo/54.png)"
   ]
  },
  {
   "cell_type": "markdown",
   "metadata": {},
   "source": [
    "## 警告\n",
    "![](../Photo/55.png)"
   ]
  },
  {
   "cell_type": "markdown",
   "metadata": {},
   "source": [
    "## for 循环\n",
    "- Python的for 循环通过一个序列中的每个值来进行迭代\n",
    "- range(a,b,k)， a，b，k 必须为整数\n",
    "- a: start\n",
    "- b: end\n",
    "- k: step\n",
    "- 注意for 是循环一切可迭代对象，而不是只能使用range"
   ]
  },
  {
   "cell_type": "markdown",
   "metadata": {},
   "source": [
    "# 在Python里面一切皆对象"
   ]
  },
  {
   "cell_type": "markdown",
   "metadata": {},
   "source": [
    "## EP:\n",
    "- ![](../Photo/145.png)"
   ]
  },
  {
   "cell_type": "code",
   "execution_count": 21,
   "metadata": {},
   "outputs": [
    {
     "name": "stdout",
     "output_type": "stream",
     "text": [
      "a\n",
      "b\n",
      "c\n",
      "d\n",
      "e\n"
     ]
    }
   ],
   "source": [
    "str_a = 'abcde'\n",
    "i = 0\n",
    "while i < 5:\n",
    "    print(str_a[i])\n",
    "    i += 1"
   ]
  },
  {
   "cell_type": "code",
   "execution_count": 22,
   "metadata": {},
   "outputs": [
    {
     "name": "stdout",
     "output_type": "stream",
     "text": [
      "10011\n"
     ]
    }
   ],
   "source": [
    "sum_ = 0\n",
    "for i in range(1,10000) :\n",
    "    sum_ += i\n",
    "    if sum_ > 10000 :\n",
    "        break\n",
    "print(sum_)"
   ]
  },
  {
   "cell_type": "markdown",
   "metadata": {},
   "source": [
    "## 嵌套循环\n",
    "- 一个循环可以嵌套另一个循环\n",
    "- 每次循环外层时，内层循环都会被刷新重新完成循环\n",
    "- 也就是说，大循环执行一次，小循环会全部执行一次\n",
    "- 注意：\n",
    "> - 多层循环非常耗时\n",
    "  - 最多使用3层循环"
   ]
  },
  {
   "cell_type": "markdown",
   "metadata": {},
   "source": [
    "## EP：\n",
    "- 使用多层循环完成9X9乘法表\n",
    "- 显示50以内所有的素数"
   ]
  },
  {
   "cell_type": "code",
   "execution_count": 44,
   "metadata": {
    "scrolled": true
   },
   "outputs": [
    {
     "name": "stdout",
     "output_type": "stream",
     "text": [
      "1 * 1 = 1   \n",
      "2 * 1 = 2   2 * 2 = 4   \n",
      "3 * 1 = 3   3 * 2 = 6   3 * 3 = 9   \n",
      "4 * 1 = 4   4 * 2 = 8   4 * 3 = 12   4 * 4 = 16   \n",
      "5 * 1 = 5   5 * 2 = 10   5 * 3 = 15   5 * 4 = 20   5 * 5 = 25   \n",
      "6 * 1 = 6   6 * 2 = 12   6 * 3 = 18   6 * 4 = 24   6 * 5 = 30   6 * 6 = 36   \n",
      "7 * 1 = 7   7 * 2 = 14   7 * 3 = 21   7 * 4 = 28   7 * 5 = 35   7 * 6 = 42   7 * 7 = 49   \n",
      "8 * 1 = 8   8 * 2 = 16   8 * 3 = 24   8 * 4 = 32   8 * 5 = 40   8 * 6 = 48   8 * 7 = 56   8 * 8 = 64   \n",
      "9 * 1 = 9   9 * 2 = 18   9 * 3 = 27   9 * 4 = 36   9 * 5 = 45   9 * 6 = 54   9 * 7 = 63   9 * 8 = 72   9 * 9 = 81   \n"
     ]
    }
   ],
   "source": [
    "i = 1\n",
    "j = 1\n",
    "for i in range(1,10):\n",
    "    for j in range(1,i+1):\n",
    "        print(i,\"*\",j,\"=\",i*j,end='   ')\n",
    "    print()"
   ]
  },
  {
   "cell_type": "code",
   "execution_count": 52,
   "metadata": {},
   "outputs": [
    {
     "name": "stdout",
     "output_type": "stream",
     "text": [
      "2\n",
      "3\n",
      "4\n",
      "5\n",
      "7\n",
      "11\n",
      "13\n",
      "17\n",
      "19\n",
      "23\n",
      "29\n",
      "31\n",
      "37\n",
      "41\n",
      "43\n",
      "47\n"
     ]
    }
   ],
   "source": [
    "i = 0\n",
    "j = 2\n",
    "for i in range(2,51):\n",
    "    for j in range(2,i//2):\n",
    "        if i % j == 0 :\n",
    "            break\n",
    "    else :\n",
    "        print(i)"
   ]
  },
  {
   "cell_type": "markdown",
   "metadata": {},
   "source": [
    "## 关键字 break 和 continue\n",
    "- break 跳出循环，终止循环\n",
    "- continue 跳出此次循环，继续执行"
   ]
  },
  {
   "cell_type": "markdown",
   "metadata": {},
   "source": [
    "## 注意\n",
    "![](../Photo/56.png)\n",
    "![](../Photo/57.png)"
   ]
  },
  {
   "cell_type": "markdown",
   "metadata": {},
   "source": [
    "# Homework\n",
    "- 1 \n",
    "![](../Photo/58.png)"
   ]
  },
  {
   "cell_type": "code",
   "execution_count": 1,
   "metadata": {},
   "outputs": [
    {
     "name": "stdout",
     "output_type": "stream",
     "text": [
      "请输入整数(0表示结束)：-1\n",
      "共有 0 个正数， 1 个负数，它们的平均数为 ： -1.0\n",
      "请输入整数(0表示结束)：1\n",
      "共有 1 个正数， 1 个负数，它们的平均数为 ： 0.0\n",
      "请输入整数(0表示结束)：0\n"
     ]
    }
   ],
   "source": [
    "count_zhen = 0\n",
    "count_fu = 0\n",
    "sum_zhen = 0\n",
    "sum_fu = 0\n",
    "while True :\n",
    "    input_1 = eval(input(\"请输入整数(0表示结束)：\"))\n",
    "    if input_1 > 0 :\n",
    "        count_zhen += 1\n",
    "        sum_zhen = sum_zhen + input_1\n",
    "        print (\"共有\",count_zhen,\"个正数，\",count_fu,\"个负数，它们的平均数为 ：\",(sum_zhen +sum_fu) / (count_zhen+count_fu))\n",
    "    elif input_1 < 0 :\n",
    "        count_fu += 1\n",
    "        sum_fu = sum_fu + input_1\n",
    "        print (\"共有\",count_zhen,\"个正数，\",count_fu,\"个负数，它们的平均数为 ：\",(sum_zhen +sum_fu) / (count_zhen+count_fu))\n",
    "    else :\n",
    "        break\n",
    "print(\"循环结束\")"
   ]
  },
  {
   "cell_type": "markdown",
   "metadata": {},
   "source": [
    "- 2\n",
    "![](../Photo/59.png)"
   ]
  },
  {
   "cell_type": "code",
   "execution_count": 7,
   "metadata": {},
   "outputs": [
    {
     "name": "stdout",
     "output_type": "stream",
     "text": [
      "第十年的学费为： 16288.946267774414 10年的学费共: 125778.92535548827\n"
     ]
    }
   ],
   "source": [
    "i = 0\n",
    "sum_2_1 = 10000\n",
    "sum_2_2 = 0\n",
    "while i < 10 :\n",
    "    sum_2_2 = sum_2_2 + sum_2_1\n",
    "    sum_2_1 = sum_2_1 + sum_2_1 * 0.05\n",
    "    i += 1\n",
    "else :\n",
    "    print(\"第十年的学费为：\",sum_2_1,\"10年的学费共:\",sum_2_2)"
   ]
  },
  {
   "cell_type": "markdown",
   "metadata": {},
   "source": [
    "- 3\n",
    "![](../Photo/58.png)"
   ]
  },
  {
   "cell_type": "markdown",
   "metadata": {},
   "source": [
    "- 4\n",
    "![](../Photo/60.png)"
   ]
  },
  {
   "cell_type": "code",
   "execution_count": 15,
   "metadata": {},
   "outputs": [
    {
     "name": "stdout",
     "output_type": "stream",
     "text": [
      "120  150  180  210  240  270  300  330  360  390  \n",
      "\n",
      "420  450  480  510  540  570  600  630  660  690  \n",
      "\n",
      "720  750  780  810  840  870  900  930  960  990  \n",
      "\n"
     ]
    }
   ],
   "source": [
    "i =100\n",
    "count_4_1 = 0\n",
    "while i <= 1000 :\n",
    "    if i % 5 == 0 and i % 6 == 0 :\n",
    "        print(i,\" \",end=\"\")\n",
    "        count_4_1 += 1\n",
    "        if count_4_1 == 10 :\n",
    "            print(\"\\n\")\n",
    "            count_4_1 = 0\n",
    "    i += 1"
   ]
  },
  {
   "cell_type": "markdown",
   "metadata": {},
   "source": [
    "- 5\n",
    "![](../Photo/61.png)"
   ]
  },
  {
   "cell_type": "code",
   "execution_count": 61,
   "metadata": {},
   "outputs": [
    {
     "name": "stdout",
     "output_type": "stream",
     "text": [
      "110\n",
      "22\n"
     ]
    }
   ],
   "source": [
    "i = 1\n",
    "while i < 12000 :\n",
    "    if i**2 > 12000 :\n",
    "        print(i)\n",
    "        break\n",
    "    i += 1\n",
    "j = 12000\n",
    "while j > 0 :\n",
    "    if j**3 < 12000 :\n",
    "        print(j)\n",
    "        break\n",
    "    j -= 1"
   ]
  },
  {
   "cell_type": "markdown",
   "metadata": {},
   "source": [
    "- 6\n",
    "![](../Photo/62.png)"
   ]
  },
  {
   "cell_type": "code",
   "execution_count": 71,
   "metadata": {},
   "outputs": [
    {
     "name": "stdout",
     "output_type": "stream",
     "text": [
      "请输入贷款金额：10000\n",
      "请输入还款年限：5\n",
      "5.0 %         212.71          12762.82\n",
      "5.125 %         213.98          12838.97\n",
      "5.25 %         215.26          12915.48\n",
      "5.375 %         216.54          12992.36\n",
      "5.5 %         217.83          13069.6\n",
      "5.625 %         219.12          13147.21\n",
      "5.75 %         220.42          13225.19\n",
      "5.875 %         221.73          13303.54\n",
      "6.0 %         223.04          13382.26\n",
      "6.125 %         224.36          13461.35\n",
      "6.25 %         225.68          13540.81\n",
      "6.375 %         227.01          13620.65\n",
      "6.5 %         228.35          13700.87\n",
      "6.625 %         229.69          13781.46\n",
      "6.75 %         231.04          13862.43\n",
      "6.875 %         232.4          13943.78\n",
      "7.0 %         233.76          14025.52\n",
      "7.125 %         235.13          14107.63\n",
      "7.25 %         236.5          14190.13\n",
      "7.375 %         237.88          14273.02\n",
      "7.5 %         239.27          14356.29\n",
      "7.625 %         240.67          14439.95\n",
      "7.75 %         242.07          14524.01\n",
      "7.875 %         243.47          14608.45\n"
     ]
    }
   ],
   "source": [
    "Loan_Amount = int(input(\"请输入贷款金额：\"))\n",
    "Number_of_Years = int(input(\"请输入还款年限：\"))\n",
    "for i in range(5000,8125,125) :\n",
    "    Monthly_Payment = (Loan_Amount*(1+i/100000)**Number_of_Years)/(Number_of_Years*12)\n",
    "    Total_Payment = Loan_Amount*(1+i/100000)**Number_of_Years\n",
    "    print(i/1000,'%        ',round(Monthly_Payment,2),'        ',round(Total_Payment,2))"
   ]
  },
  {
   "cell_type": "markdown",
   "metadata": {},
   "source": [
    "- 7\n",
    "![](../Photo/63.png)"
   ]
  },
  {
   "cell_type": "code",
   "execution_count": 80,
   "metadata": {},
   "outputs": [
    {
     "name": "stdout",
     "output_type": "stream",
     "text": [
      "从左向右加： 11.396983949278505\n",
      "从右向左加： 11.397003949278519\n"
     ]
    }
   ],
   "source": [
    "i =1\n",
    "sum_5 = 0\n",
    "while i < 50000 :\n",
    "    sum_5 += 1/i\n",
    "    i += 1\n",
    "else:\n",
    "    print(\"从左向右加：\",sum_5)\n",
    "i = 50000\n",
    "sum_5 = 0\n",
    "while i > 0 :\n",
    "    sum_5 += 1/i\n",
    "    i -= 1\n",
    "else:\n",
    "    print(\"从右向左加：\",sum_5)"
   ]
  },
  {
   "cell_type": "markdown",
   "metadata": {},
   "source": [
    "- 8\n",
    "![](../Photo/64.png)"
   ]
  },
  {
   "cell_type": "code",
   "execution_count": 85,
   "metadata": {},
   "outputs": [
    {
     "name": "stdout",
     "output_type": "stream",
     "text": [
      "1 3\n",
      "3 5\n",
      "5 7\n",
      "7 9\n",
      "9 11\n",
      "11 13\n",
      "13 15\n",
      "15 17\n",
      "17 19\n",
      "19 21\n",
      "21 23\n",
      "23 25\n",
      "25 27\n",
      "27 29\n",
      "29 31\n",
      "31 33\n",
      "33 35\n",
      "35 37\n",
      "37 39\n",
      "39 41\n",
      "41 43\n",
      "43 45\n",
      "45 47\n",
      "47 49\n",
      "49 51\n",
      "51 53\n",
      "53 55\n",
      "55 57\n",
      "57 59\n",
      "59 61\n",
      "61 63\n",
      "63 65\n",
      "65 67\n",
      "67 69\n",
      "69 71\n",
      "71 73\n",
      "73 75\n",
      "75 77\n",
      "77 79\n",
      "79 81\n",
      "81 83\n",
      "83 85\n",
      "85 87\n",
      "87 89\n",
      "89 91\n",
      "91 93\n",
      "93 95\n",
      "95 97\n",
      "97 99\n",
      "数列的和： 45.124450303050196\n"
     ]
    }
   ],
   "source": [
    "sum_8 = 0\n",
    "for i in range(1,99,2) :\n",
    "    sum_8 += i/(i+2)\n",
    "    print(i,i+2)\n",
    "print(\"数列的和：\",sum_8)"
   ]
  },
  {
   "cell_type": "markdown",
   "metadata": {},
   "source": [
    "- 9\n",
    "![](../Photo/65.png)"
   ]
  },
  {
   "cell_type": "code",
   "execution_count": 6,
   "metadata": {},
   "outputs": [
    {
     "name": "stdout",
     "output_type": "stream",
     "text": [
      "pai==  3.1416926635905345\n",
      "pai==  3.1416426560898874\n",
      "pai==  3.1416259880342583\n",
      "pai==  3.1416176542148064\n",
      "pai==  3.1416126539897853\n",
      "pai==  3.1416093205342155\n",
      "pai==  3.1416069395081365\n",
      "pai==  3.1416051537460006\n",
      "pai==  3.1416037648243034\n"
     ]
    }
   ],
   "source": [
    "for i in range(10000,100000,10000) :\n",
    "    a = 0\n",
    "    for j in range(1,i,1) :\n",
    "        a += ((-1)**(j+1))/(2*j-1)\n",
    "    else:\n",
    "        pi = 4*a\n",
    "        print(\"pai== \",pi)"
   ]
  },
  {
   "cell_type": "markdown",
   "metadata": {},
   "source": [
    "- 10 \n",
    "![](../Photo/66.png)"
   ]
  },
  {
   "cell_type": "code",
   "execution_count": 12,
   "metadata": {},
   "outputs": [
    {
     "name": "stdout",
     "output_type": "stream",
     "text": [
      "完美数 ：  6\n",
      "完美数 ：  28\n",
      "完美数 ：  496\n",
      "完美数 ：  8128\n"
     ]
    }
   ],
   "source": [
    "# list_sushu = []\n",
    "# for i in range(2,10000):\n",
    "#     for j in range(2,i//2):\n",
    "#         if i % j == 0 :\n",
    "#             break\n",
    "#     else :\n",
    "#         list_sushu.append(i)\n",
    "# else:\n",
    "#     print(list_sushu)\n",
    "# for k in list_sushu:\n",
    "#     if  2**(k-1) in list_sushu :\n",
    "#         print (\"这是一个完全数：\",(2**k-1)*(2**(k-1)))\n",
    "#大数学家欧拉曾推算出完全数的获得公式：如果p是质数，且2^p-1也是质数，那么（2^p-1）X2^（p-1）便是一个完全数。\n",
    "\n",
    "for i in range(2,10000):\n",
    "    sum_10 = 0\n",
    "    for j in range(1,i):\n",
    "        if i % j == 0 :\n",
    "            sum_10 += j\n",
    "    if sum_10 == i : #当内循环结束的时候，i的所有因子相加的和sum已经是i的所有因子的和了。\n",
    "        print(\"完美数 ： \",i)\n",
    "        \n",
    "\n"
   ]
  },
  {
   "cell_type": "markdown",
   "metadata": {},
   "source": [
    "- 11\n",
    "![](../Photo/67.png)"
   ]
  },
  {
   "cell_type": "code",
   "execution_count": 11,
   "metadata": {},
   "outputs": [
    {
     "name": "stdout",
     "output_type": "stream",
     "text": [
      "1 2\n",
      "1 3\n",
      "1 4\n",
      "1 5\n",
      "1 6\n",
      "1 7\n",
      "2 3\n",
      "2 4\n",
      "2 5\n",
      "2 6\n",
      "2 7\n",
      "3 4\n",
      "3 5\n",
      "3 6\n",
      "3 7\n",
      "4 5\n",
      "4 6\n",
      "4 7\n",
      "5 6\n",
      "5 7\n",
      "6 7\n",
      "共有 21 个组合\n"
     ]
    }
   ],
   "source": [
    "count_11 = 0\n",
    "for i in range(1,7):\n",
    "    for j in range(i,8):\n",
    "        if i == j :\n",
    "            continue   #跳过本次循环\n",
    "        print(i,j)\n",
    "        count_11 += 1\n",
    "else :\n",
    "    print(\"共有\",count_11,\"个组合\")"
   ]
  },
  {
   "cell_type": "markdown",
   "metadata": {},
   "source": [
    "- 12\n",
    "![](../Photo/68.png)"
   ]
  },
  {
   "cell_type": "code",
   "execution_count": 18,
   "metadata": {},
   "outputs": [
    {
     "name": "stdout",
     "output_type": "stream",
     "text": [
      "请输入10个数字：1\n",
      "请输入10个数字：2\n",
      "请输入10个数字：3\n",
      "请输入10个数字：5.5\n",
      "请输入10个数字：5.6\n",
      "请输入10个数字：6\n",
      "请输入10个数字：7\n",
      "请输入10个数字：8\n",
      "请输入10个数字：9\n",
      "请输入10个数字：10\n",
      "平均数是： 5.71 标准差是： 3.9892104481964847\n"
     ]
    }
   ],
   "source": [
    "import math\n",
    "input_list = []\n",
    "for i in range(10) :\n",
    "    i = eval(input(\"请输入10个数字：\"))\n",
    "    input_list.append(i)\n",
    "sum_12 = 0\n",
    "for j in input_list :\n",
    "    sum_12 += j\n",
    "mean = sum_12 / 10\n",
    "sum_12 = 0\n",
    "for k in input_list :\n",
    "    sum_12 += ((k-mean)**2)\n",
    "    deviation = math.sqrt(sum_12 / 5)\n",
    "print (\"平均数是：\",mean,\"标准差是：\",deviation)"
   ]
  },
  {
   "cell_type": "code",
   "execution_count": null,
   "metadata": {},
   "outputs": [],
   "source": []
  },
  {
   "cell_type": "code",
   "execution_count": null,
   "metadata": {},
   "outputs": [],
   "source": []
  }
 ],
 "metadata": {
  "kernelspec": {
   "display_name": "Python 3",
   "language": "python",
   "name": "python3"
  },
  "language_info": {
   "codemirror_mode": {
    "name": "ipython",
    "version": 3
   },
   "file_extension": ".py",
   "mimetype": "text/x-python",
   "name": "python",
   "nbconvert_exporter": "python",
   "pygments_lexer": "ipython3",
   "version": "3.6.4"
  }
 },
 "nbformat": 4,
 "nbformat_minor": 2
}
