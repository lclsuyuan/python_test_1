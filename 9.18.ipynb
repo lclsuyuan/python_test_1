{
 "cells": [
  {
   "cell_type": "markdown",
   "metadata": {},
   "source": [
    "# 更多字符串和特殊方法\n",
    "- 前面我们已经学了类，在Python中还有一些特殊的方法起着非常重要的作用，这里会介绍一些特殊的方法和运算符的重载，以及使用特殊方法设计类"
   ]
  },
  {
   "cell_type": "markdown",
   "metadata": {},
   "source": [
    "## str 类\n",
    "- 一个str对象是不可变的，也就是说，一旦创建了这个字符串，那么它的内容在认为不改变的情况下是不会变的\n",
    "- s1 = str()\n",
    "- s2 = str('welcome to Python')"
   ]
  },
  {
   "cell_type": "markdown",
   "metadata": {},
   "source": [
    "## 创建两个对象，分别观察两者id\n",
    "- id为Python内存地址"
   ]
  },
  {
   "cell_type": "markdown",
   "metadata": {},
   "source": [
    "## 处理字符串的函数\n",
    "- len\n",
    "- max\n",
    "- min\n",
    "- 字符串一切是按照ASCII码值进行比较"
   ]
  },
  {
   "cell_type": "code",
   "execution_count": 2,
   "metadata": {},
   "outputs": [
    {
     "data": {
      "text/plain": [
       "True"
      ]
     },
     "execution_count": 2,
     "metadata": {},
     "output_type": "execute_result"
    }
   ],
   "source": [
    "#a is b #is判断的是内存地址\n",
    "aa = True\n",
    "aa is True\n"
   ]
  },
  {
   "cell_type": "markdown",
   "metadata": {},
   "source": [
    "## 下角标运算符 []\n",
    "- 一个字符串是一个字符序列，可以通过索引进行访问\n",
    "- 观察字符串是否是一个可迭代序列  \\__iter__"
   ]
  },
  {
   "cell_type": "markdown",
   "metadata": {},
   "source": [
    "## 切片 [start: end]\n",
    "- start 默认值为0\n",
    "- end 默认值为-1"
   ]
  },
  {
   "cell_type": "code",
   "execution_count": 12,
   "metadata": {},
   "outputs": [
    {
     "data": {
      "text/plain": [
       "'staday'"
      ]
     },
     "execution_count": 12,
     "metadata": {},
     "output_type": "execute_result"
    }
   ],
   "source": [
    "aa = 'fatestadaynight'\n",
    "aa[0:4] #前闭后开区间\n",
    "aa[-5:] #后面的值不填，表示走到字符串结束\n",
    "aa[-11:-5]"
   ]
  },
  {
   "cell_type": "markdown",
   "metadata": {},
   "source": [
    "## 链接运算符 + 和复制运算符 *\n",
    "- \\+ 链接多个字符串，同时''.join()也是\n",
    "- \\* 复制多个字符串"
   ]
  },
  {
   "cell_type": "markdown",
   "metadata": {},
   "source": [
    "## in 和 not in 运算符\n",
    "- in :判断某个字符是否在字符串内 \n",
    "- not in ：判断某个字符是否不在字符串内\n",
    "- 返回的是布尔值"
   ]
  },
  {
   "cell_type": "code",
   "execution_count": 14,
   "metadata": {},
   "outputs": [
    {
     "data": {
      "text/plain": [
       "True"
      ]
     },
     "execution_count": 14,
     "metadata": {},
     "output_type": "execute_result"
    }
   ],
   "source": [
    "a1 = 'fatezero'\n",
    "'fate' in a1"
   ]
  },
  {
   "cell_type": "code",
   "execution_count": 20,
   "metadata": {},
   "outputs": [
    {
     "name": "stdout",
     "output_type": "stream",
     "text": [
      "at\n"
     ]
    }
   ],
   "source": [
    "def findin (str_1,str_2) :\n",
    "    s1 = str_2[0]\n",
    "    count = 0\n",
    "    for i in str_1 :\n",
    "        if s1 == i:\n",
    "            str_jie = str_1[count:count+len(str_2)]\n",
    "            print(str_jie)\n",
    "        count += 1           \n",
    "findin('fate','at')\n",
    "    "
   ]
  },
  {
   "cell_type": "markdown",
   "metadata": {},
   "source": [
    "## 比较字符串\n",
    "-  ==, !=, >=, <=, >, <\n",
    "- 依照ASCII码值进行比较"
   ]
  },
  {
   "cell_type": "markdown",
   "metadata": {},
   "source": [
    "## 测试字符串\n",
    "![](../Photo/99.png)\n",
    "- 注意：\n",
    "> - isalnum() 中是不能包含空格，否则会返回False"
   ]
  },
  {
   "cell_type": "code",
   "execution_count": 53,
   "metadata": {},
   "outputs": [
    {
     "data": {
      "text/plain": [
       "False"
      ]
     },
     "execution_count": 53,
     "metadata": {},
     "output_type": "execute_result"
    }
   ],
   "source": [
    "a = 'a b'\n",
    "a.isalpha()#不包含空格"
   ]
  },
  {
   "cell_type": "code",
   "execution_count": 42,
   "metadata": {},
   "outputs": [
    {
     "name": "stdout",
     "output_type": "stream",
     "text": [
      "密码必须含有小写字母\n",
      "密码必须含有大写\n",
      "0 0 3\n"
     ]
    }
   ],
   "source": [
    "a = '111'\n",
    "count1 = 0\n",
    "count2 = 0\n",
    "count3 = 0\n",
    "for i in a:\n",
    "    if i.islower() is True:\n",
    "        count1 +=1\n",
    "    if i.isupper() is True:\n",
    "        count2 +=1\n",
    "    if i.isdigit() is True:\n",
    "        count3 +=1\n",
    "else:\n",
    "    if count1 == 0:\n",
    "        print('密码必须含有小写字母')\n",
    "    if count2 == 0:\n",
    "        print('密码必须含有大写')\n",
    "    if count3 == 0:\n",
    "        print('密码必须含有数字')\n",
    "    if count1 !=0 and count2 !=0 and count3 !=0:\n",
    "        print('密码设置成功')\n",
    "print(count1,count2,count3)"
   ]
  },
  {
   "cell_type": "markdown",
   "metadata": {},
   "source": [
    "## 搜索子串\n",
    "![](../Photo/100.png)"
   ]
  },
  {
   "cell_type": "markdown",
   "metadata": {},
   "source": [
    "## 转换字符串\n",
    "![](../Photo/101.png)"
   ]
  },
  {
   "cell_type": "code",
   "execution_count": 44,
   "metadata": {},
   "outputs": [
    {
     "name": "stdout",
     "output_type": "stream",
     "text": [
      "None\n",
      "验证码： PIaD\n",
      "请输入四位验证码piad\n",
      "成功\n"
     ]
    }
   ],
   "source": [
    "import random\n",
    "i = 0\n",
    "yzhm_list = ['A','B','C','D','E','F','G','H','I','G','K','L','M','N','O','P','Q','R','S','T','U','V','W','X','Y','Z','a','b','c','d','e','f','g','h','i','j','k','l','m','n','o','p','q','r','s','t','u','v','w','x','y','z','0','1','2','3','4','5','6','7','8','9']\n",
    "while i < 3 :    \n",
    "    random.shuffle(yzhm_list)\n",
    "    #random.shuffle()方法可以将yzhm_list列表随机排序（改变的是原列表）\n",
    "    print(random.shuffle(yzhm_list))\n",
    "    yzhm =  ''.join(yzhm_list[0:4])\n",
    "    #取到随机排列后的列表的前四位，拼接成字符串。\n",
    "    print (\"验证码：\",yzhm)\n",
    "    yzhm = yzhm.upper()\n",
    "    input_yzhm = input(\"请输入四位验证码\")\n",
    "    input_yzhm = input_yzhm.upper()\n",
    "    if input_yzhm == yzhm :\n",
    "        print(\"成功\")\n",
    "        break\n",
    "    else :\n",
    "        print(\"验证失败\")\n",
    "        i += 1\n",
    "else:\n",
    "    print(\"别爬了。\")"
   ]
  },
  {
   "cell_type": "markdown",
   "metadata": {},
   "source": [
    "## 删除字符串\n",
    "![](../Photo/146.png)"
   ]
  },
  {
   "cell_type": "code",
   "execution_count": 52,
   "metadata": {},
   "outputs": [
    {
     "name": "stdout",
     "output_type": "stream",
     "text": [
      "abco  kl  mk l#%& j*( 453\n",
      "['abco', '', 'kl', '', 'mk', 'l#%&', 'j*(', '453']\n",
      "abcoklmkl#%&j*(453\n",
      "abcoklmkl#%&j*(453\n"
     ]
    }
   ],
   "source": [
    "a = '  abco  kl  mk l#%& j*( 453  '#两种方法删除字符串中间的空格\n",
    "a = a.strip()\n",
    "print(a)\n",
    "a = a.split(' ')\n",
    "print(a)\n",
    "c = ''.join(a)\n",
    "print(c)\n",
    "b = ''\n",
    "a = '  abco  kl  mk l#%& j*( 453  '\n",
    "for i in a :\n",
    "    if i == ' ' :\n",
    "        continue\n",
    "    b += i\n",
    "print(b)"
   ]
  },
  {
   "cell_type": "markdown",
   "metadata": {},
   "source": [
    "## 格式化字符串\n",
    "![](../Photo/103.png)"
   ]
  },
  {
   "cell_type": "code",
   "execution_count": null,
   "metadata": {},
   "outputs": [],
   "source": [
    "fo = "
   ]
  },
  {
   "cell_type": "markdown",
   "metadata": {},
   "source": [
    "## EP:\n",
    "- 1\n",
    "![](../Photo/104.png)\n",
    "- 2 \n",
    "    随机参数100个数字，将www.baidu.com/?page=进行拼接"
   ]
  },
  {
   "cell_type": "markdown",
   "metadata": {},
   "source": [
    "## Python高级使用方法 -- 字符串\n",
    "- 我们经常使用的方法实际上就是调用Python的运算重载\n",
    "![](../Photo/105.png)"
   ]
  },
  {
   "cell_type": "markdown",
   "metadata": {},
   "source": [
    "# Homework\n",
    "- 1\n",
    "![](../Photo/106.png)"
   ]
  },
  {
   "cell_type": "code",
   "execution_count": 54,
   "metadata": {},
   "outputs": [
    {
     "name": "stdout",
     "output_type": "stream",
     "text": [
      "请输入社会安全号码，格式为（ddd-dd-dddd）d是数字 ：123-23-1234\n",
      "123 23 1234\n"
     ]
    }
   ],
   "source": [
    "number = input('请输入社会安全号码，格式为（ddd-dd-dddd）d是数字 ：')\n",
    "number = number.strip()\n",
    "number = number.split('-')\n",
    "num1 = number[0]\n",
    "num2 = number[1]\n",
    "num3 = number[2]\n",
    "if num1.isdigit() is True and num2.isdigit() is True and num2.isdigit() is True :\n",
    "    print('格式正常')\n",
    "else :\n",
    "    print('格式错误')"
   ]
  },
  {
   "cell_type": "markdown",
   "metadata": {},
   "source": [
    "- 2\n",
    "![](../Photo/107.png)"
   ]
  },
  {
   "cell_type": "code",
   "execution_count": 57,
   "metadata": {},
   "outputs": [
    {
     "name": "stdout",
     "output_type": "stream",
     "text": [
      "str1是str2的子串\n"
     ]
    }
   ],
   "source": [
    "def find_str (str1,str2):\n",
    "    if str2.find(str1)  > 0 :\n",
    "        print(\"str1是str2的子串\")\n",
    "    else :\n",
    "        print('str1不是str2的子串')\n",
    "find_str('fate','asdafateas')"
   ]
  },
  {
   "cell_type": "markdown",
   "metadata": {},
   "source": [
    "- 3\n",
    "![](../Photo/108.png)"
   ]
  },
  {
   "cell_type": "code",
   "execution_count": 67,
   "metadata": {},
   "outputs": [
    {
     "name": "stdout",
     "output_type": "stream",
     "text": [
      "1\n",
      "3\n",
      "a\n",
      "s\n",
      "d\n",
      "s\n",
      "6 0 2 4\n",
      "密码格式正确\n"
     ]
    }
   ],
   "source": [
    "def pass_jiance(pass_1) :\n",
    "    count = 0\n",
    "    count_1 = 0\n",
    "    count_2 = 0\n",
    "    count_3 = 0\n",
    "    for i in pass_1 :\n",
    "        print(i)\n",
    "        if ord(i) >= 65 and ord(i) <= 90 :\n",
    "            count_1 += 1\n",
    "        if ord(i) >= 48 and ord(i) <= 57 :\n",
    "            count_2 += 1\n",
    "        if ord(i) >= 97 and ord(i) <= 122 :\n",
    "            count_3 += 1\n",
    "        count += 1\n",
    "    print(count,count_1,count_2,count_3)\n",
    "    if count == count_1+count_2+count_3 and count_2 >= 2 :\n",
    "        print('密码格式正确')\n",
    "    else :\n",
    "        print('密码格式错误')\n",
    "pass_jiance('13asds')"
   ]
  },
  {
   "cell_type": "markdown",
   "metadata": {},
   "source": [
    "- 4\n",
    "![](../Photo/109.png)"
   ]
  },
  {
   "cell_type": "code",
   "execution_count": 70,
   "metadata": {},
   "outputs": [
    {
     "name": "stdout",
     "output_type": "stream",
     "text": [
      "请输入一个字符串fate0\n",
      "f\n",
      "a\n",
      "t\n",
      "e\n",
      "0\n",
      "字符串中一共有 4 个字母\n"
     ]
    }
   ],
   "source": [
    "def countLetters(str_) :\n",
    "    count1 =0\n",
    "    count2 = 0\n",
    "    for i in str_ :\n",
    "        print(i)\n",
    "        if ord(i) >= 65 and ord(i) <= 90 :\n",
    "            count1 += 1\n",
    "        if ord(i) >= 97 and ord(i) <= 122 :\n",
    "            count2 += 1\n",
    "    else :\n",
    "        return count1 + count2\n",
    "str_ = input('请输入一个字符串')\n",
    "a = countLetters(str_)\n",
    "print('字符串中一共有',a,'个字母')"
   ]
  },
  {
   "cell_type": "markdown",
   "metadata": {},
   "source": [
    "- 5\n",
    "![](../Photo/110.png)"
   ]
  },
  {
   "cell_type": "code",
   "execution_count": 86,
   "metadata": {},
   "outputs": [
    {
     "name": "stdout",
     "output_type": "stream",
     "text": [
      "请输入电话号码1800-Flowers\n",
      "1\n",
      "8\n",
      "0\n",
      "0\n",
      "-\n",
      "F\n",
      "l\n",
      "o\n",
      "w\n",
      "e\n",
      "r\n",
      "s\n",
      "1800-3569377\n"
     ]
    }
   ],
   "source": [
    "def getNumber(str_) :\n",
    "    str_new = ''\n",
    "    for i in str_ :\n",
    "        print(i)\n",
    "        ord(i)\n",
    "        if 65 <= ord(i) <= 67 or 97 <= ord(i) <= 99 :\n",
    "            i = '2'\n",
    "        if 68 <= ord(i) <= 70 or 100 <= ord(i) <= 102 :\n",
    "            i = '3'\n",
    "        if 71 <= ord(i) <= 73 or 103 <= ord(i) <= 105 :\n",
    "            i = '4'\n",
    "        if 74 <= ord(i) <= 76 or 106 <= ord(i) <= 108 :\n",
    "            i = '5'\n",
    "        if 77 <= ord(i) <= 79 or 109 <= ord(i) <= 111 :\n",
    "            i = '6'\n",
    "        if 80 <= ord(i) <= 83 or 112 <= ord(i) <= 115 :\n",
    "            i = '7'\n",
    "        if 84 <= ord(i) <= 86 or 116 <= ord(i) <= 118 :\n",
    "            i = '8'\n",
    "        if 87 <= ord(i) <= 90 or 119 <= ord(i) <= 122 :\n",
    "            i = '9'\n",
    "        str_new += i\n",
    "    else :\n",
    "        return  str_new\n",
    "str_1 = input('请输入电话号码')\n",
    "str_2 = getNumber(str_1)\n",
    "print(str_2)\n"
   ]
  },
  {
   "cell_type": "markdown",
   "metadata": {},
   "source": [
    "- 6\n",
    "![](../Photo/111.png)"
   ]
  },
  {
   "cell_type": "code",
   "execution_count": 90,
   "metadata": {},
   "outputs": [
    {
     "name": "stdout",
     "output_type": "stream",
     "text": [
      "请输入一个字符串asd\n",
      "反向字符串 ;  dsa\n"
     ]
    }
   ],
   "source": [
    "def reverse(s) :\n",
    "    c = len(s) - 1\n",
    "    s_new = ''\n",
    "    while c >= 0 :\n",
    "        s_new += s[c]\n",
    "        c -= 1\n",
    "    return s_new\n",
    "s1 = input('请输入一个字符串')\n",
    "print ('反向字符串 ; ',reverse(s1))"
   ]
  },
  {
   "cell_type": "markdown",
   "metadata": {},
   "source": [
    "- 7\n",
    "![](../Photo/112.png)"
   ]
  },
  {
   "cell_type": "code",
   "execution_count": 97,
   "metadata": {},
   "outputs": [
    {
     "name": "stdout",
     "output_type": "stream",
     "text": [
      "请输入卡号412525636856363\n",
      "卡号合法\n"
     ]
    }
   ],
   "source": [
    "def chek_nukber (str_) :\n",
    "    if str_.startswith('4') is True or str_.startswith('5') is True or str_.startswith('37') is True or str_.startswith('6') and 13 <= len(str_) >= 16 :\n",
    "        return 1\n",
    "    else :\n",
    "        return 0\n",
    "id_ = input('请输入卡号')\n",
    "if chek_nukber(id_) == 1 :\n",
    "    print('卡号合法')\n",
    "else :\n",
    "    print('卡号不合法')"
   ]
  },
  {
   "cell_type": "markdown",
   "metadata": {},
   "source": [
    "- 8\n",
    "![](../Photo/113.png)"
   ]
  },
  {
   "cell_type": "code",
   "execution_count": null,
   "metadata": {},
   "outputs": [],
   "source": [
    "def ack(str_) :\n",
    "    if len(str_) == 12 :\n",
    "        sum = 0 \n",
    "        for i in str_ :\n",
    "            sum = sum + int(i)\n",
    "        else :\n",
    "            ack = (10-sum)%10\n",
    "            if ack == 10 :\n",
    "                ack = 0\n",
    "                return ack\n",
    "            else :\n",
    "                return ack\n",
    "    else :\n",
    "        print('ISBN-13位数不对，请重试')\n",
    "isbn = input('请输入12个整数')\n",
    "ack = ack(isbn)\n",
    "isbn = isbn + str(ack)\n",
    "print('ISBN-13 : ',isbn)"
   ]
  },
  {
   "cell_type": "markdown",
   "metadata": {},
   "source": [
    "- 9\n",
    "![](../Photo/114.png)"
   ]
  }
 ],
 "metadata": {
  "kernelspec": {
   "display_name": "Python 3",
   "language": "python",
   "name": "python3"
  },
  "language_info": {
   "codemirror_mode": {
    "name": "ipython",
    "version": 3
   },
   "file_extension": ".py",
   "mimetype": "text/x-python",
   "name": "python",
   "nbconvert_exporter": "python",
   "pygments_lexer": "ipython3",
   "version": "3.6.4"
  }
 },
 "nbformat": 4,
 "nbformat_minor": 2
}
