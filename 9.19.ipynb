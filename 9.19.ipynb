{
 "cells": [
  {
   "cell_type": "markdown",
   "metadata": {},
   "source": [
    "# 列表List\n",
    "- 一个列表可以储存任意大小的数据集合，你可以理解为他是一个容器"
   ]
  },
  {
   "cell_type": "markdown",
   "metadata": {},
   "source": [
    "## 先来一个例子爽一爽\n",
    "![](../Photo/115.png)"
   ]
  },
  {
   "cell_type": "markdown",
   "metadata": {},
   "source": [
    "## 创建一个列表\n",
    "- a = [1,2,3,4,5]"
   ]
  },
  {
   "cell_type": "code",
   "execution_count": null,
   "metadata": {},
   "outputs": [],
   "source": [
    "a1 = []\n",
    "a2 = list() #接受可迭代对象，创建列表\n",
    "a3"
   ]
  },
  {
   "cell_type": "markdown",
   "metadata": {},
   "source": [
    "## 列表的一般操作\n",
    "![](../Photo/116.png)"
   ]
  },
  {
   "cell_type": "code",
   "execution_count": 2,
   "metadata": {},
   "outputs": [
    {
     "name": "stdout",
     "output_type": "stream",
     "text": [
      "f\n",
      "a\n",
      "t\n",
      "e\n",
      "4\n",
      "2\n",
      "1\n",
      "q\n",
      "w\n"
     ]
    }
   ],
   "source": [
    "a1 = ['f','a','t','e','4','2','1','q','w']\n",
    "i = 0\n",
    "while i < len(a1) :  #while使用索引遍历，for直接使用列表中的元素遍历\n",
    "    print(a1[i])\n",
    "    i += 1"
   ]
  },
  {
   "cell_type": "code",
   "execution_count": 6,
   "metadata": {},
   "outputs": [
    {
     "data": {
      "text/plain": [
       "[<matplotlib.lines.Line2D at 0x2aaca52c208>]"
      ]
     },
     "execution_count": 6,
     "metadata": {},
     "output_type": "execute_result"
    },
    {
     "data": {
      "image/png": "[encoded data removed]",
      "text/plain": [
       "<matplotlib.figure.Figure at 0x2aaca220828>"
      ]
     },
     "metadata": {},
     "output_type": "display_data"
    }
   ],
   "source": [
    "import matplotlib.pyplot as plt\n",
    "x = []\n",
    "y = []\n",
    "for i in range(-50,50) :\n",
    "    x.append(i)\n",
    "    y.append(i ** 2)\n",
    "plt.plot(x,y)"
   ]
  },
  {
   "cell_type": "code",
   "execution_count": 10,
   "metadata": {},
   "outputs": [
    {
     "ename": "SyntaxError",
     "evalue": "invalid syntax (<ipython-input-10-69c6f056ad00>, line 11)",
     "output_type": "error",
     "traceback": [
      "\u001b[1;36m  File \u001b[1;32m\"<ipython-input-10-69c6f056ad00>\"\u001b[1;36m, line \u001b[1;32m11\u001b[0m\n\u001b[1;33m    fory iny_coord:\u001b[0m\n\u001b[1;37m                 ^\u001b[0m\n\u001b[1;31mSyntaxError\u001b[0m\u001b[1;31m:\u001b[0m invalid syntax\n"
     ]
    }
   ],
   "source": [
    "import numpy,asnp\n",
    "\n",
    "import matplotlib.pyplot,asplt\n",
    "\n",
    "x_coords = np.linspace(- 100, 100, 500)\n",
    "\n",
    "y_coords = np.linspace(- 100, 100, 500)\n",
    "\n",
    "points = []\n",
    "\n",
    "fory iny_coords:\n",
    "\n",
    "forx inx_coords:\n",
    "\n",
    "if((x* 0.03)** 2+(y* 0.03)** 2- 1)** 3-(x* 0.03)** 2*(y* 0.03)** 3<= 0:\n",
    "\n",
    "points.append({ \"x\": x, \"y\": y})\n",
    "\n",
    "heart_x = list(map( lambdapoint: point[ \"x\"], points))\n",
    "\n",
    "heart_y = list(map( lambdapoint: point[ \"y\"], points))\n",
    "\n",
    "plt.scatter(heart_x, heart_y, s= 10, alpha= 0.5)\n",
    "\n",
    "plt.show()"
   ]
  },
  {
   "cell_type": "code",
   "execution_count": 7,
   "metadata": {},
   "outputs": [
    {
     "name": "stdout",
     "output_type": "stream",
     "text": [
      "[0, 2, 4, 6, 8]\n"
     ]
    }
   ],
   "source": [
    "a = [x for x in range(10) if x % 2 == 0 ] #如果x%2 == 0 输出x\n",
    "print(a)"
   ]
  },
  {
   "cell_type": "markdown",
   "metadata": {},
   "source": [
    "## 列表索引操作\n",
    "- Mylist[index]\n",
    "- 正序索引，逆序索引\n",
    "- 列表一定注意越界\n",
    "- ![](../Photo/117.png)"
   ]
  },
  {
   "cell_type": "markdown",
   "metadata": {},
   "source": [
    "## 列表切片操作\n",
    "- Mylist[start:end]\n",
    "- 正序切片，逆序切片"
   ]
  },
  {
   "cell_type": "markdown",
   "metadata": {},
   "source": [
    "## 列表 +、*、in 、not in"
   ]
  },
  {
   "cell_type": "markdown",
   "metadata": {},
   "source": [
    "## 使用for循环遍历元素\n",
    "- for 循环可以遍历一切可迭代元素"
   ]
  },
  {
   "cell_type": "markdown",
   "metadata": {},
   "source": [
    "## EP：\n",
    "- 使用while 循环遍历列表"
   ]
  },
  {
   "cell_type": "markdown",
   "metadata": {},
   "source": [
    "## 列表的比较\n",
    "- \\>,<,>=,<=,==,!="
   ]
  },
  {
   "cell_type": "markdown",
   "metadata": {},
   "source": [
    "## 列表生成式\n",
    "[x for x in range(10)]"
   ]
  },
  {
   "cell_type": "markdown",
   "metadata": {},
   "source": [
    "## 列表的方法\n",
    "![](../Photo/118.png)"
   ]
  },
  {
   "cell_type": "code",
   "execution_count": 8,
   "metadata": {},
   "outputs": [
    {
     "name": "stdout",
     "output_type": "stream",
     "text": [
      "81\n"
     ]
    }
   ],
   "source": [
    "A = lambda x : print(x ** 2)  #lamba 参数：函数动作\n",
    "A(9)\n"
   ]
  },
  {
   "cell_type": "code",
   "execution_count": 9,
   "metadata": {
    "scrolled": true
   },
   "outputs": [
    {
     "name": "stdout",
     "output_type": "stream",
     "text": [
      "10000\n"
     ]
    }
   ],
   "source": [
    "(lambda x : print(x ** 2))(100)"
   ]
  },
  {
   "cell_type": "code",
   "execution_count": 17,
   "metadata": {},
   "outputs": [
    {
     "data": {
      "text/plain": [
       "[['d', 12, -99], ['A', 2, 1000], ['B', 10, 1000], ['c', 21, 20000]]"
      ]
     },
     "execution_count": 17,
     "metadata": {},
     "output_type": "execute_result"
    }
   ],
   "source": [
    "list_ = [['A',2,1000],['B',10,1000],['c',21,20000],['d',12,-99]]\n",
    "sorted(list_,key=lambda x:x[2]) #以list_列表中的子列表中的索引【2】作为key进行排序"
   ]
  },
  {
   "cell_type": "markdown",
   "metadata": {},
   "source": [
    "## 将字符串分割成列表\n",
    "- split  按照自定义的内容拆分"
   ]
  },
  {
   "cell_type": "code",
   "execution_count": null,
   "metadata": {},
   "outputs": [],
   "source": []
  },
  {
   "cell_type": "markdown",
   "metadata": {},
   "source": [
    "## EP:\n",
    "![](../Photo/119.png)\n",
    "![](../Photo/120.png)"
   ]
  },
  {
   "cell_type": "markdown",
   "metadata": {},
   "source": [
    "## 列表的复制\n",
    "- copy 浅复制\n",
    "- deepcopy import copy  深复制\n",
    "- http://www.pythontutor.com/visualize.html#mode=edit"
   ]
  },
  {
   "cell_type": "markdown",
   "metadata": {},
   "source": [
    "## 列表排序\n",
    "- sort\n",
    "- sorted\n",
    "- 列表的多级排序\n",
    "    - 匿名函数"
   ]
  },
  {
   "cell_type": "markdown",
   "metadata": {},
   "source": [
    "## EP：\n",
    "- 手动排序该列表[5,3,8,0,17]，以升序或者降序"
   ]
  },
  {
   "cell_type": "markdown",
   "metadata": {},
   "source": [
    "- 1\n",
    "![](../Photo/121.png)"
   ]
  },
  {
   "cell_type": "code",
   "execution_count": 23,
   "metadata": {},
   "outputs": [
    {
     "name": "stdout",
     "output_type": "stream",
     "text": [
      "请输入四个成绩40,55,70,58\n",
      "序列 0 成绩 ： 40 等级C\n",
      "序列 1 成绩 ： 55 等级B\n",
      "序列 2 成绩 ： 70 等级A\n",
      "序列 3 成绩 ： 58 等级B\n"
     ]
    }
   ],
   "source": [
    "a,b,c,d = eval(input('请输入四个成绩'))\n",
    "list_ = [a,b,c,d]\n",
    "list_max = max(list_)\n",
    "c = 0\n",
    "for i in list_ :   \n",
    "    if i >= list_max - 10 :\n",
    "        print('序列',c,'成绩 ：',i,'等级A')\n",
    "    elif list_max - 10 > i >= list_max - 20 :\n",
    "        print('序列',c,'成绩 ：',i,'等级B')\n",
    "    elif list_max - 20 > i >= list_max - 30 :\n",
    "        print('序列',c,'成绩 ：',i,'等级C')\n",
    "    elif list_max - 30 > i >= list_max - 40 :\n",
    "        print('序列',c,'成绩 ：',i,'等级D')\n",
    "    else :\n",
    "        print('序列',c,'成绩 ：',i,'等级F')\n",
    "    c += 1"
   ]
  },
  {
   "cell_type": "markdown",
   "metadata": {},
   "source": [
    "- 2\n",
    "![](../Photo/122.png)"
   ]
  },
  {
   "cell_type": "code",
   "execution_count": 33,
   "metadata": {},
   "outputs": [
    {
     "name": "stdout",
     "output_type": "stream",
     "text": [
      "[7, 6, 5, 4, 3, 2, 1]\n"
     ]
    }
   ],
   "source": [
    "list_num1 = [1,2,3,4,5,6,7]\n",
    "c = len(list_num1)-1\n",
    "list_num2 = []\n",
    "while c >= 0  :\n",
    "    list_num2.append(list_num1[c])\n",
    "    c -= 1\n",
    "print(list_num2)\n",
    "    "
   ]
  },
  {
   "cell_type": "markdown",
   "metadata": {},
   "source": [
    "- 3\n",
    "![](../Photo/123.png)"
   ]
  },
  {
   "cell_type": "code",
   "execution_count": 29,
   "metadata": {},
   "outputs": [
    {
     "name": "stdout",
     "output_type": "stream",
     "text": [
      "[17, 52, 1, 40, 93, 8, 42, 34, 67, 53, 70, 17, 88, 22, 91, 82, 18, 74, 1, 30]\n",
      "1 出现了 2 次 \n",
      "1 出现了 2 次 \n",
      "8 出现了 1 次 \n",
      "17 出现了 2 次 \n",
      "17 出现了 2 次 \n",
      "18 出现了 1 次 \n",
      "22 出现了 1 次 \n",
      "30 出现了 1 次 \n",
      "34 出现了 1 次 \n",
      "40 出现了 1 次 \n",
      "42 出现了 1 次 \n",
      "52 出现了 1 次 \n",
      "53 出现了 1 次 \n",
      "67 出现了 1 次 \n",
      "70 出现了 1 次 \n",
      "74 出现了 1 次 \n",
      "82 出现了 1 次 \n",
      "88 出现了 1 次 \n",
      "91 出现了 1 次 \n",
      "93 出现了 1 次 \n"
     ]
    }
   ],
   "source": [
    "import random\n",
    "list_ = []\n",
    "for i in range(20) :\n",
    "    list_.append(random.randint(1,100))\n",
    "print(list_)\n",
    "list_ = sorted(list_)\n",
    "for i in list_ :\n",
    "    print(i,'出现了',list_.count(i),'次 ')"
   ]
  },
  {
   "cell_type": "markdown",
   "metadata": {},
   "source": [
    "- 4\n",
    "![](../Photo/124.png)"
   ]
  },
  {
   "cell_type": "code",
   "execution_count": 35,
   "metadata": {},
   "outputs": [
    {
     "name": "stdout",
     "output_type": "stream",
     "text": [
      "请输入分数，用 分割10 20 30 20 10\n",
      "[10, 20, 30, 20, 10]\n",
      "大于平均分的有 3 人，小于平均分的有 2 人\n"
     ]
    }
   ],
   "source": [
    "str_ = input('请输入分数，用 分割')\n",
    "str_ = str_.strip()\n",
    "list_ = str_.split(' ')\n",
    "list_2 = []\n",
    "for i in list_ :\n",
    "    list_2.append(int(i))\n",
    "print(list_2)\n",
    "count_1 = 0\n",
    "count_2 = 0\n",
    "ping = sum(list_2) / len(list_2)\n",
    "for i in list_2 :\n",
    "    if i > ping :\n",
    "        count_1 += 1\n",
    "    elif i < ping :\n",
    "        count_2 += 1\n",
    "else :\n",
    "    print('大于平均分的有',count_1,'人，小于平均分的有',count_2,'人')"
   ]
  },
  {
   "cell_type": "markdown",
   "metadata": {},
   "source": [
    "- 5\n",
    "![](../Photo/125.png)"
   ]
  },
  {
   "cell_type": "code",
   "execution_count": 38,
   "metadata": {},
   "outputs": [
    {
     "name": "stdout",
     "output_type": "stream",
     "text": [
      "[8, 7, 2, 0, 1, 0, 0, 3, 8, 2, 8, 3, 7, 3, 0, 4, 8, 8, 4, 1, 9, 1, 6, 2, 1, 5, 9, 9, 3, 9, 2, 7, 0, 5, 0, 0, 1, 8, 9, 4, 8, 2, 7, 4, 2, 4, 5, 7, 4, 1, 3, 4, 8, 1, 1, 5, 9, 0, 7, 9, 7, 9, 8, 6, 1, 9, 9, 2, 1, 1, 0, 9, 0, 5, 5, 3, 7, 8, 5, 5, 8, 6, 2, 4, 5, 8, 1, 7, 4, 7, 6, 7, 6, 5, 0, 8, 3, 1, 9, 1, 2, 4, 7, 9, 1, 0, 4, 5, 3, 3, 3, 4, 6, 2, 7, 8, 5, 7, 8, 6, 7, 6, 8, 7, 2, 2, 2, 3, 8, 2, 4, 2, 3, 7, 7, 0, 0, 8, 0, 4, 3, 4, 9, 0, 3, 4, 5, 8, 7, 5, 2, 7, 5, 7, 1, 7, 0, 2, 7, 9, 2, 3, 0, 9, 6, 9, 6, 2, 2, 3, 6, 6, 6, 5, 9, 3, 1, 6, 3, 6, 5, 7, 9, 6, 8, 8, 1, 4, 7, 6, 2, 7, 5, 4, 1, 7, 7, 8, 6, 3, 6, 3, 0, 0, 0, 2, 6, 4, 0, 6, 6, 4, 4, 2, 3, 4, 2, 8, 7, 7, 2, 2, 6, 5, 7, 8, 7, 8, 5, 2, 7, 2, 1, 1, 6, 7, 3, 5, 1, 1, 8, 2, 0, 0, 3, 4, 2, 9, 6, 0, 3, 0, 0, 1, 6, 0, 1, 5, 3, 3, 2, 5, 7, 3, 1, 8, 3, 6, 4, 0, 5, 7, 4, 7, 5, 1, 8, 8, 1, 4, 8, 6, 1, 5, 6, 4, 9, 0, 5, 2, 2, 6, 5, 3, 2, 2, 7, 1, 6, 0, 9, 1, 5, 3, 7, 7, 2, 1, 0, 2, 7, 6, 1, 4, 3, 8, 4, 0, 0, 3, 8, 1, 9, 3, 8, 7, 0, 8, 4, 1, 6, 8, 3, 6, 8, 7, 5, 7, 7, 8, 1, 2, 2, 7, 0, 4, 0, 4, 1, 9, 4, 1, 0, 9, 2, 1, 8, 9, 1, 0, 5, 6, 8, 7, 6, 5, 6, 5, 4, 0, 9, 7, 2, 7, 8, 3, 6, 6, 8, 5, 8, 5, 7, 7, 5, 0, 2, 6, 0, 3, 9, 9, 5, 5, 3, 1, 8, 4, 6, 5, 0, 0, 0, 4, 2, 2, 8, 7, 6, 1, 0, 4, 8, 8, 5, 7, 1, 4, 8, 1, 3, 3, 9, 0, 1, 2, 0, 8, 8, 5, 2, 0, 3, 1, 5, 4, 2, 0, 8, 3, 3, 0, 8, 7, 6, 9, 5, 6, 7, 8, 0, 3, 6, 8, 3, 5, 9, 2, 7, 8, 4, 7, 1, 6, 2, 1, 7, 6, 6, 9, 3, 4, 3, 1, 6, 6, 7, 8, 9, 1, 6, 6, 0, 1, 6, 9, 1, 2, 8, 0, 0, 0, 6, 1, 0, 9, 9, 5, 3, 9, 1, 8, 8, 2, 5, 5, 9, 5, 1, 7, 4, 8, 0, 8, 1, 9, 5, 1, 3, 1, 7, 2, 1, 8, 1, 6, 0, 4, 4, 1, 1, 7, 1, 9, 4, 3, 0, 5, 7, 1, 7, 7, 8, 9, 4, 5, 0, 5, 0, 3, 7, 5, 2, 7, 0, 6, 4, 0, 2, 2, 4, 6, 3, 5, 8, 2, 9, 6, 2, 6, 4, 7, 2, 3, 9, 2, 7, 9, 3, 6, 8, 3, 4, 7, 1, 8, 6, 4, 1, 9, 2, 7, 3, 7, 6, 9, 8, 4, 6, 5, 7, 5, 0, 1, 0, 0, 4, 4, 0, 3, 7, 3, 7, 6, 6, 7, 6, 7, 2, 6, 4, 0, 5, 3, 4, 4, 6, 6, 1, 5, 7, 7, 0, 7, 8, 7, 4, 5, 6, 3, 7, 9, 5, 7, 4, 7, 2, 1, 9, 7, 1, 5, 8, 4, 0, 7, 7, 9, 7, 9, 9, 4, 0, 7, 3, 6, 4, 8, 0, 4, 6, 9, 3, 4, 1, 7, 1, 2, 0, 4, 5, 3, 9, 6, 5, 8, 6, 9, 2, 1, 9, 4, 5, 4, 5, 9, 0, 6, 1, 2, 3, 3, 0, 0, 9, 6, 4, 1, 1, 7, 5, 0, 8, 2, 2, 3, 6, 7, 8, 0, 1, 9, 5, 0, 9, 2, 4, 5, 6, 2, 0, 1, 0, 6, 5, 8, 8, 7, 3, 8, 0, 6, 8, 4, 2, 5, 1, 4, 8, 1, 4, 9, 1, 5, 9, 2, 2, 0, 8, 8, 2, 1, 6, 5, 0, 7, 7, 0, 8, 0, 6, 6, 2, 4, 5, 5, 5, 0, 2, 3, 2, 0, 7, 2, 4, 3, 8, 7, 0, 1, 8, 9, 6, 8, 4, 0, 5, 5, 1, 3, 2, 9, 7, 6, 6, 4, 5, 0, 3, 5, 7, 4, 6, 5, 6, 4, 0, 8, 8, 7, 5, 9, 3, 0, 3, 6, 6, 3, 9, 7, 9, 5, 9, 9, 4, 2, 7, 3, 9, 1, 1, 9, 3, 4, 0, 2, 0, 7, 1, 1, 0, 0, 1, 8, 0, 1, 7, 8, 1, 6, 1, 6, 0, 5, 0, 2, 0, 7, 9, 4, 3, 5, 1, 9, 2, 5, 7, 1, 1, 3, 9, 3, 0, 7, 9, 7, 3, 8, 3, 8, 5, 8, 9, 2, 8, 5, 1, 3, 5, 6, 7, 7, 3, 3, 8, 9, 7, 3, 3, 5, 1, 9, 0, 0, 9, 5, 6, 3, 6, 9, 4, 6, 4, 7, 6, 9, 0, 9, 9, 6, 3, 0, 0, 9, 5, 7, 5, 3, 5, 9, 8, 1, 9, 5, 4, 3, 9, 2, 3, 3, 0, 2, 9, 3, 4, 2, 9, 2, 7, 8, 1, 0, 7, 9, 7, 6, 3, 9, 2, 7, 6, 5, 6, 1, 7, 0, 8, 1, 6, 5, 9, 6, 9, 1, 2, 8, 5, 5, 0, 9, 7, 8, 2, 3, 3, 9, 2, 1, 9, 1]\n",
      "[112, 104, 91, 95, 85, 98, 103, 119, 97, 96]\n",
      "0 共出现 112 次\n",
      "1 共出现 104 次\n",
      "2 共出现 91 次\n",
      "3 共出现 95 次\n",
      "4 共出现 85 次\n",
      "5 共出现 98 次\n",
      "6 共出现 103 次\n",
      "7 共出现 119 次\n",
      "8 共出现 97 次\n",
      "9 共出现 96 次\n"
     ]
    }
   ],
   "source": [
    "counts = [0,0,0,0,0,0,0,0,0,0]\n",
    "import random\n",
    "list_1 = []\n",
    "for i in range(1000) :\n",
    "    list_1.append(random.randint(0,9))\n",
    "print(list_1)\n",
    "for j in list_1 :\n",
    "    for k in range(10) :\n",
    "        if j == k :\n",
    "            counts[k] += 1\n",
    "print(counts)\n",
    "for o in range(10) :\n",
    "    print(o,'共出现',counts[o],'次')"
   ]
  },
  {
   "cell_type": "markdown",
   "metadata": {},
   "source": [
    "- 6\n",
    "![](../Photo/126.png)"
   ]
  },
  {
   "cell_type": "code",
   "execution_count": 39,
   "metadata": {},
   "outputs": [
    {
     "name": "stdout",
     "output_type": "stream",
     "text": [
      "请输入数字，用 分割20 30 60 10 \n",
      "[20, 30, 60, 10]\n",
      "这个列表的最小值的下标是： 3\n"
     ]
    }
   ],
   "source": [
    "def indexOfSmallestElement(lst_) :\n",
    "    lst_min = min(lst_)\n",
    "    return lst_.index(lst_min)\n",
    "str_ = input('请输入数字，用 分割')\n",
    "str_ = str_.strip()\n",
    "list_ = str_.split(' ')\n",
    "list_2 = []\n",
    "for i in list_ :\n",
    "    list_2.append(int(i))\n",
    "print(list_2)\n",
    "print('这个列表的最小值的下标是：',indexOfSmallestElement(list_2))"
   ]
  },
  {
   "cell_type": "markdown",
   "metadata": {},
   "source": [
    "- 7\n",
    "![](../Photo/127.png)\n",
    "![](../Photo/128.png)"
   ]
  },
  {
   "cell_type": "code",
   "execution_count": 40,
   "metadata": {},
   "outputs": [
    {
     "data": {
      "text/plain": [
       "0"
      ]
     },
     "execution_count": 40,
     "metadata": {},
     "output_type": "execute_result"
    }
   ],
   "source": [
    "a = []\n",
    "len(a)"
   ]
  },
  {
   "cell_type": "code",
   "execution_count": 52,
   "metadata": {},
   "outputs": [
    {
     "name": "stdout",
     "output_type": "stream",
     "text": [
      "[4, 6, 5, 0, 1, 2, 3]\n",
      "新的随机顺序数组： [5, 7, 6, 1, 2, 3, 4]\n"
     ]
    }
   ],
   "source": [
    "import random\n",
    "def shuffle(lst) :\n",
    "    lst_random = []\n",
    "    while len(lst_random) < len(lst) :\n",
    "        r = random.randint(0,len(lst)-1)\n",
    "        if r not in lst_random :\n",
    "            lst_random.append(r)\n",
    "        else :\n",
    "            continue\n",
    "    else :\n",
    "        print(lst_random)\n",
    "    lst_2 = []\n",
    "    for i in lst_random:\n",
    "        lst_2.append(lst[i])\n",
    "    else :\n",
    "        print('新的随机顺序数组：',lst_2)\n",
    "shuffle([1,2,3,4,5,6,7])\n",
    "    "
   ]
  },
  {
   "cell_type": "markdown",
   "metadata": {},
   "source": [
    "- 8\n",
    "![](../Photo/129.png)"
   ]
  },
  {
   "cell_type": "code",
   "execution_count": 2,
   "metadata": {},
   "outputs": [
    {
     "name": "stdout",
     "output_type": "stream",
     "text": [
      "2\n",
      "1\n",
      "3\n",
      "列表 [2, 1, 3, 4]\n"
     ]
    }
   ],
   "source": [
    "def eliminateDuplicates(lst):\n",
    "    for i in lst :\n",
    "        while lst.count(i) > 1 :\n",
    "            print(lst.pop(i))\n",
    "    else :\n",
    "            print('列表',lst)\n",
    "eliminateDuplicates([2,1,2,1,3,3,4])"
   ]
  },
  {
   "cell_type": "markdown",
   "metadata": {},
   "source": [
    "- 9\n",
    "![](../Photo/130.png)"
   ]
  },
  {
   "cell_type": "code",
   "execution_count": 6,
   "metadata": {},
   "outputs": [
    {
     "name": "stdout",
     "output_type": "stream",
     "text": [
      "请输入数字列表，用 分割1 1 3 4 4 5 7 9 10 30\n",
      "列表已经排好序\n"
     ]
    }
   ],
   "source": [
    "def isSorted(lst) :\n",
    "    lst_s = sorted(lst)\n",
    "    if lst == lst_s :\n",
    "        print('列表已经排好序')\n",
    "    else :\n",
    "        print('列表没有排好序')\n",
    "str_ = input('请输入数字列表，用 分割')\n",
    "str_ = str_.strip()\n",
    "list_ = str_.split(' ')\n",
    "list_2 = []\n",
    "for i in list_ :\n",
    "    list_2.append(int(i))\n",
    "isSorted(list_2)"
   ]
  },
  {
   "cell_type": "markdown",
   "metadata": {},
   "source": [
    "- 10\n",
    "![](../Photo/131.png)"
   ]
  },
  {
   "cell_type": "code",
   "execution_count": 10,
   "metadata": {},
   "outputs": [
    {
     "name": "stdout",
     "output_type": "stream",
     "text": [
      "请输入数字列表，用 分割2 1 3 4 2 4 6 7\n",
      "2 1\n",
      "4 2\n",
      "3 2\n",
      "冒泡排序 ： [1, 2, 2, 3, 4, 4, 6, 7]\n"
     ]
    }
   ],
   "source": [
    "str_ = input('请输入数字列表，用 分割')\n",
    "str_ = str_.strip()\n",
    "list_ = str_.split(' ')\n",
    "list_2 = []\n",
    "for i in list_ :\n",
    "    list_2.append(int(i))\n",
    "for k in range(len(list_2)-1):\n",
    "    for j in range(len(list_2)-k-1): #冒泡排序内循环每执行完一次，列表的最后意为都变为最大\n",
    "        if list_2[j] > list_2[j+1] :\n",
    "            print(list_2[j],list_2[j+1])\n",
    "    #         t = list_2[j]\n",
    "    #         list_2[j] = list_2[j+1]\n",
    "    #         list_2[j+1] = t\n",
    "            list_2[j],list_2[j+1] = list_2[j+1],list_2[j] #python 可以使用联合赋值，\n",
    "\n",
    "else :\n",
    "    print('冒泡排序 ：',list_2)"
   ]
  },
  {
   "cell_type": "markdown",
   "metadata": {},
   "source": [
    "- 11\n",
    "![](../Photo/132.png)"
   ]
  },
  {
   "cell_type": "code",
   "execution_count": 30,
   "metadata": {},
   "outputs": [
    {
     "name": "stdout",
     "output_type": "stream",
     "text": [
      "[46, 49, 2, 5]\n",
      "count  0\n",
      "[28, 32, 37, 24]\n",
      "count  1\n",
      "[20, 33, 26, 36]\n",
      "count  2\n",
      "[12, 15, 45, 27]\n",
      "count  3\n",
      "[35, 8, 42, 30]\n",
      "count  4\n",
      "[21, 7, 44, 34]\n",
      "count  5\n",
      "[12, 20, 17, 41]\n",
      "count  6\n",
      "[29, 44, 31, 40]\n",
      "count  7\n",
      "[6, 24, 10, 17]\n",
      "count  8\n",
      "[29, 4, 22, 11]\n",
      "count  9\n",
      "[12, 45, 37, 33]\n",
      "count  10\n",
      "[33, 30, 28, 4]\n",
      "count  11\n",
      "[51, 45, 0, 53]\n",
      "count  12\n",
      "[24, 39, 33, 28]\n",
      "count  13\n",
      "[10, 9, 11, 17]\n",
      "count  14\n",
      "[23, 29, 52, 50]\n",
      "count  15\n",
      "[47, 18, 14, 48]\n",
      "count  16\n",
      "[18, 4, 17, 43]\n",
      "count  17\n",
      "[3, 45, 33, 7]\n",
      "count  18\n",
      "[41, 18, 42, 15]\n",
      "count  19\n",
      "[34, 22, 15, 38]\n",
      "count  20\n",
      "[7, 28, 24, 46]\n",
      "count  21\n",
      "[42, 28, 10, 20]\n",
      "count  22\n",
      "[28, 25, 10, 49]\n",
      "count  23\n",
      "[21, 9, 11, 51]\n",
      "count  24\n",
      "[51, 29, 32, 12]\n",
      "count  25\n",
      "[8, 53, 31, 8]\n",
      "重复\n",
      "[37, 9, 21, 53]\n",
      "count  26\n",
      "[37, 0, 24, 49]\n",
      "count  27\n",
      "[12, 1, 18, 11]\n",
      "count  28\n",
      "[50, 4, 6, 43]\n",
      "count  29\n",
      "[5, 5, 4, 32]\n",
      "重复\n",
      "[0, 39, 19, 0]\n",
      "重复\n",
      "[18, 53, 44, 15]\n",
      "count  30\n",
      "[42, 16, 7, 39]\n",
      "count  31\n",
      "[39, 25, 19, 47]\n",
      "count  32\n",
      "[28, 29, 14, 4]\n",
      "count  33\n",
      "[52, 18, 41, 44]\n",
      "count  34\n",
      "[15, 37, 14, 33]\n",
      "count  35\n",
      "[20, 15, 22, 37]\n",
      "count  36\n",
      "[45, 28, 29, 37]\n",
      "count  37\n",
      "[48, 17, 15, 0]\n",
      "count  38\n",
      "[22, 7, 5, 31]\n",
      "count  39\n",
      "[46, 46, 12, 26]\n",
      "重复\n",
      "[11, 34, 12, 11]\n",
      "重复\n",
      "[6, 17, 35, 11]\n",
      "count  40\n",
      "[13, 15, 20, 18]\n",
      "count  41\n",
      "[46, 49, 2, 5, 28, 32, 37, 24, 20, 33, 26, 36, 12, 15, 45, 27, 35, 8, 42, 30, 21, 7, 44, 34, 17, 41, 29, 31, 40, 6, 10, 4, 22, 11, 51, 0, 53, 39, 9, 23, 52, 50, 47, 18, 14, 48, 43, 3, 38, 25, 1, 16, 19, 13] 37\n"
     ]
    }
   ],
   "source": [
    "import random\n",
    "list_poker = ['spade_A','spade_2','spade_3','spade_4','spade_5','spade_6','spade_7','spade_8','spade_9','spade_10','spade_j','spade_q','spade_k','clubs_A','clubs_2','clubs_3','clubs_4','clubs_5','clubs_6','clubs_7','clubs_8','clubs_9','clubse_10','clubs_j','clubs_q','clubs_k','hearts_A','hearts_2','hearts_3','hearts_4','hearts_5','hearts_6','hearts_7','hearts_8','hearts_9','hearts_10','hearts_j','hearts_q','hearts_k','diamonds_A','diamonds_2','diamonds_3','diamonds_4','diamonds_5','diamonds_6','diamonds_7','diamonds_8','diamonds_9','diamonds_10','diamonds_j','diamonds_q','diamonds_k','joker_1','joker_2']\n",
    "lst = []\n",
    "count = 0\n",
    "count_cost = 0\n",
    "while len(lst) < len(list_poker) :\n",
    "    a = random.randint(0,53)\n",
    "    b = random.randint(0,53)\n",
    "    c = random.randint(0,53)\n",
    "    d = random.randint(0,53)\n",
    "    num = [a,b,c,d]\n",
    "    print(num)\n",
    "    if num.count(num[0]) > 1 or num.count(num[1]) > 1 or num.count(num[2]) > 1 or num.count(num[3]) > 1 :\n",
    "        count_cost += 1 #一次取出向同的牌的情况不存在，count - count_cost 才是正确的取牌次数\n",
    "        print('重复')\n",
    "        continue #如果一次性取出的四张牌中有重复的，跳过本次循环\n",
    "    else :\n",
    "        print('count ',count)\n",
    "        count += 1\n",
    "        for i in num:\n",
    "            if i not in lst: #如果取出的牌不存在与lst则添加到lst中\n",
    "                lst.append(i)\n",
    "else :\n",
    "    print(lst,count - count_cost)"
   ]
  },
  {
   "cell_type": "markdown",
   "metadata": {},
   "source": [
    "- 12\n",
    "![](../Photo/133.png)"
   ]
  },
  {
   "cell_type": "code",
   "execution_count": 2,
   "metadata": {},
   "outputs": [
    {
     "name": "stdout",
     "output_type": "stream",
     "text": [
      "请输入数字列表，用 分割1 2 1 2 3 4 \n",
      "[1, 2, 1, 2, 3, 4]\n",
      "列表不含有四个连续数字\n"
     ]
    }
   ],
   "source": [
    "def isConsecutiveFour(values) :\n",
    "    for i in range(len(values)-3) : #比较四个连续数，i如果是列表长度-2， 则i向后比较，i+3会益处\n",
    "        if values[i] == values[i+1] == values[i+2] == values[i+3] :        \n",
    "            print('列表含有四个连续数字')\n",
    "            break\n",
    "    else :\n",
    "        print('列表不含有四个连续数字')\n",
    "str_ = input('请输入数字列表，用 分割')\n",
    "str_ = str_.strip()\n",
    "list_ = str_.split(' ')\n",
    "list_3 = []\n",
    "for i in list_ :\n",
    "    list_3.append(int(i))\n",
    "print(list_3)\n",
    "isConsecutiveFour(list_3)"
   ]
  },
  {
   "cell_type": "code",
   "execution_count": null,
   "metadata": {},
   "outputs": [],
   "source": []
  }
 ],
 "metadata": {
  "kernelspec": {
   "display_name": "Python 3",
   "language": "python",
   "name": "python3"
  },
  "language_info": {
   "codemirror_mode": {
    "name": "ipython",
    "version": 3
   },
   "file_extension": ".py",
   "mimetype": "text/x-python",
   "name": "python",
   "nbconvert_exporter": "python",
   "pygments_lexer": "ipython3",
   "version": "3.6.4"
  }
 },
 "nbformat": 4,
 "nbformat_minor": 2
}
