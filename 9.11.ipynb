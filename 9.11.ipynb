{
 "cells": [
  {
   "cell_type": "markdown",
   "metadata": {},
   "source": [
    "# 数学函数、字符串和对象\n",
    "## 本章介绍Python函数来执行常见的数学运算\n",
    "- 函数是完成一个特殊任务的一组语句，可以理解为一个函数相当于一个小功能，但是在开发中，需要注意一个函数的长度最好不要超过一屏\n",
    "- Python中的内置函数是不需要Import导入的\n",
    "<img src=\"../Photo/15.png\"></img>"
   ]
  },
  {
   "cell_type": "code",
   "execution_count": 57,
   "metadata": {},
   "outputs": [
    {
     "name": "stdout",
     "output_type": "stream",
     "text": [
      "请输入三个数字以逗号分开：1,2,3\n",
      "请输入操作类型：最大值输入max，最小值输入min，求幂输入powmax\n"
     ]
    }
   ],
   "source": [
    "a,b,c = eval(input(\"请输入三个数字以逗号分开：\"))\n",
    "choose_mode = input(\"请输入操作类型：最大值输入max，最小值输入min，求幂输入pow\")\n",
    "if choose_mode == \"min\":\n",
    "    print(min(a,b,c))\n",
    "if choose_mode == \"max\":\n",
    "    print(max(a,b,c))\n",
    "if choose_mode == \"pow\":\n",
    "    print(pow(b,c))"
   ]
  },
  {
   "cell_type": "markdown",
   "metadata": {},
   "source": [
    "## 尝试练习Python内置函数"
   ]
  },
  {
   "cell_type": "markdown",
   "metadata": {},
   "source": [
    "## Python中的math模块提供了许多数学函数\n",
    "<img src=\"../Photo/16.png\"></img>\n",
    "<img src=\"../Photo/17.png\"></img>\n"
   ]
  },
  {
   "cell_type": "code",
   "execution_count": 33,
   "metadata": {},
   "outputs": [
    {
     "name": "stdout",
     "output_type": "stream",
     "text": [
      "0.0008853032001114429\n",
      "0.5002213257855723\n"
     ]
    },
    {
     "data": {
      "text/plain": [
       "1"
      ]
     },
     "execution_count": 33,
     "metadata": {},
     "output_type": "execute_result"
    }
   ],
   "source": [
    "import random \n",
    "import math\n",
    "a = random.random()/255/2\n",
    "print(a)\n",
    "res= 1.0 / (1.0 + math.exp(-a))\n",
    "print(res)\n",
    "round(res)"
   ]
  },
  {
   "cell_type": "code",
   "execution_count": null,
   "metadata": {},
   "outputs": [],
   "source": []
  },
  {
   "cell_type": "markdown",
   "metadata": {},
   "source": [
    "## 两个数学常量PI和e，可以通过使用math.pi 和math.e调用"
   ]
  },
  {
   "cell_type": "markdown",
   "metadata": {},
   "source": [
    "## EP:\n",
    "- 通过math库，写一个程序，使得用户输入三个顶点(x,y)返回三个角度\n",
    "- 注意：Python计算角度为弧度制，需要将其转换为角度\n",
    "<img src=\"../Photo/18.png\">"
   ]
  },
  {
   "cell_type": "code",
   "execution_count": 46,
   "metadata": {},
   "outputs": [
    {
     "name": "stdout",
     "output_type": "stream",
     "text": [
      "请输入三角形的三个顶点，用，隔开：0,0,1,0,0,1\n",
      "1.4142135623730951 1.0 1.0\n",
      "1.5707963267948968\n",
      "A= 90.00000000000001\n",
      "A= 90.00000000000001 B= 44.999999999999986 C= 44.999999999999986\n"
     ]
    }
   ],
   "source": [
    "import math\n",
    "x1,y1,x2,y2,x3,y3 = eval(input(\"请输入三角形的三个顶点，用，隔开：\"))\n",
    "a = math.sqrt((x2-x3)**2+(y2-y3)**2)\n",
    "b = math.sqrt((x1-x3)**2+(y1-y3)**2)\n",
    "c = math.sqrt((x1-x2)**2+(y1-y2)**2)\n",
    "#使用两点之间的距离公式计算边长\n",
    "print(a,b,c)\n",
    "A = math.acos((a*a-b*b-c*c)/(-2*b*c))\n",
    "print(A)\n",
    "print(\"A=\",math.degrees(A))\n",
    "B = math.acos((b*b-a*a-c*c)/(-2*a*c))\n",
    "C = math.acos((c*c-a*a-b*b)/(-2*b*a))\n",
    "print(\"A=\",math.degrees(A),\"B=\",math.degrees(B),\"C=\",math.degrees(C))\n"
   ]
  },
  {
   "cell_type": "markdown",
   "metadata": {},
   "source": [
    "## 字符串和字符\n",
    "- 在Python中，字符串必须是在单引号或者双引号内，在多段换行的字符串中可以使用“”“\n",
    "- 在使用”“”时，给予其变量则变为字符串，否则当多行注释使用"
   ]
  },
  {
   "cell_type": "markdown",
   "metadata": {},
   "source": [
    "## ASCII码与Unicode码\n",
    "- <img src=\"../Photo/19.png\"></img>\n",
    "- <img src=\"../Photo/20.png\"></img>\n",
    "- <img src=\"../Photo/21.png\"></img>"
   ]
  },
  {
   "cell_type": "markdown",
   "metadata": {},
   "source": [
    "## 函数ord、chr\n",
    "- ord 返回ASCII码值\n",
    "- chr 返回字符"
   ]
  },
  {
   "cell_type": "code",
   "execution_count": 64,
   "metadata": {},
   "outputs": [
    {
     "name": "stdout",
     "output_type": "stream",
     "text": [
      ";?=B:?;;<;J{{8myw;?=B:?;;<;J{{8myw\n"
     ]
    }
   ],
   "source": [
    "email = '1538051121@qq.com'\n",
    "for i in email:\n",
    "    print(chr(ord(i)+10),end=\"\")\n",
    "    #输出不换行。\n",
    "email = '1538051121@qq.com'\n",
    "result =''\n",
    "for i in email:\n",
    "    result += chr(ord(i)+10)\n",
    "print(result)"
   ]
  },
  {
   "cell_type": "markdown",
   "metadata": {},
   "source": [
    "## EP:\n",
    "- 利用ord与chr进行简单邮箱加密"
   ]
  },
  {
   "cell_type": "code",
   "execution_count": 5,
   "metadata": {},
   "outputs": [
    {
     "name": "stdout",
     "output_type": "stream",
     "text": [
      "MD5加密前为 ：i like fate.\n",
      "MD5加密后为 ：b9a2acce30db4fa8be156d3dcebaf0cb\n",
      "请输入用户签名i like fate.\n",
      "b9a2acce30db4fa8be156d3dcebaf0cb\n",
      "认证成功\n"
     ]
    }
   ],
   "source": [
    "import hashlib\n",
    "\n",
    "# 待加密信息\n",
    "str = 'i like fate.'\n",
    "# 创建md5对象\n",
    "hl = hashlib.md5()\n",
    "ha = hashlib.md5()\n",
    "# Tips\n",
    "# 此处必须声明encode\n",
    "# 若写法为hl.update(str)  报错为： Unicode-objects must be encoded before hashing\n",
    "hl.update(str.encode(encoding='utf-8'))\n",
    "print('MD5加密前为 ：' + str)\n",
    "print('MD5加密后为 ：' + hl.hexdigest())\n",
    "database = 'b9a2acce30db4fa8be156d3dcebaf0cb'\n",
    "qianming = input(\"请输入用户签名\")\n",
    "ha.update(qianming.encode(encoding='utf-8'))\n",
    "print(ha.hexdigest())\n",
    "if database == ha.hexdigest():\n",
    "    print(\"认证成功\")\n",
    "else:\n",
    "    print(\"认证失败！\")\n",
    "        "
   ]
  },
  {
   "cell_type": "markdown",
   "metadata": {},
   "source": [
    "## 转义序列 \\\n",
    "- a = \"He said,\"Johon's program is easy to read\"\n",
    "- 转掉它原来的意思\n",
    "- 一般情况下只有当语句与默认方法相撞的时候，就需要转义"
   ]
  },
  {
   "cell_type": "markdown",
   "metadata": {},
   "source": [
    "## 高级print\n",
    "- 参数 end： 以什么方式结束打印\n",
    "- 默认换行打印"
   ]
  },
  {
   "cell_type": "markdown",
   "metadata": {},
   "source": [
    "## 函数str\n",
    "- 将类型强制转换成字符串类型\n",
    "- 其他一些以后会学到(list,set,tuple...)"
   ]
  },
  {
   "cell_type": "markdown",
   "metadata": {},
   "source": [
    "## 字符串连接操作\n",
    "- 直接使用 “+” \n",
    "- join() 函数 "
   ]
  },
  {
   "cell_type": "markdown",
   "metadata": {},
   "source": [
    "## EP：\n",
    "- 将 “Welcome” “to” \"Python\" 拼接\n",
    "- 将int型 100 与 “joker is a bad man” 拼接\n",
    "- 从控制台读取字符串\n",
    "> 输入一个名字返回夸奖此人"
   ]
  },
  {
   "cell_type": "code",
   "execution_count": 18,
   "metadata": {},
   "outputs": [
    {
     "name": "stdout",
     "output_type": "stream",
     "text": [
      "Welcome to Python\n",
      "请输入人名：lcl\n",
      "lcl is a goood boy !\n",
      "joker is a bad man and\n"
     ]
    }
   ],
   "source": [
    "print( ''.join(['Welcome ','to ','Python']))\n",
    "name = input(\"请输入人名：\")\n",
    "print(' '.join([name,'is a goood boy !']))#以空格为分割符凭借字符串\n",
    "print(\"joker is a bad man \"+\"and\")"
   ]
  },
  {
   "cell_type": "markdown",
   "metadata": {},
   "source": [
    "## 实例研究：最小数量硬币\n",
    "- 开发一个程序，让用户输入总金额，这是一个用美元和美分表示的浮点值，返回一个由美元、两角五分的硬币、一角的硬币、五分硬币、以及美分个数\n",
    "<img src=\"../Photo/22.png\"></img>"
   ]
  },
  {
   "cell_type": "markdown",
   "metadata": {},
   "source": [
    "- Python弱项，对于浮点型的处理并不是很好，但是处理数据的时候使用的是Numpy类型\n",
    "<img src=\"../Photo/23.png\"></img>"
   ]
  },
  {
   "cell_type": "markdown",
   "metadata": {},
   "source": [
    "## id与type\n",
    "- id 查看内存地址，在判断语句中将会使用\n",
    "- type 查看元素类型"
   ]
  },
  {
   "cell_type": "markdown",
   "metadata": {},
   "source": [
    "## 其他格式化语句见书"
   ]
  },
  {
   "cell_type": "markdown",
   "metadata": {},
   "source": [
    "# Homework\n",
    "- 1\n",
    "<img src=\"../Photo/24.png\"><img>\n",
    "<img src=\"../Photo/25.png\"><img>"
   ]
  },
  {
   "cell_type": "code",
   "execution_count": 21,
   "metadata": {},
   "outputs": [
    {
     "name": "stdout",
     "output_type": "stream",
     "text": [
      "请输入五边形定点到中心的距离：5.5\n",
      "五边形的面积为： 71.923649044821\n"
     ]
    }
   ],
   "source": [
    "import math\n",
    "r = eval(input(\"请输入五边形定点到中心的距离：\"))\n",
    "s = 2*r*math.sin(math.pi/5)\n",
    "area = 5*s*s/(4*math.tan(math.pi/5))\n",
    "print(\"五边形的面积为：\",round(area)"
   ]
  },
  {
   "cell_type": "markdown",
   "metadata": {},
   "source": [
    "- 2\n",
    "<img src=\"../Photo/26.png\"><img>"
   ]
  },
  {
   "cell_type": "code",
   "execution_count": null,
   "metadata": {},
   "outputs": [],
   "source": [
    "import math\n",
    "x1,y1,x2,y2 = eval(input(\"请输入地球表面两点的坐标，x1,y1，x2，y2形式输入-值表示东经和南纬:\"))\n",
    "x1 = math.radians(x1)\n",
    "x2 = math.radians(x2)\n",
    "y1 = math.radians(y1)\n",
    "y2 = math.radians(y2)\n",
    "d = 6371.01*math.acos(math.sin(x1)*math.sin(x2)+math.cos(x1)*math.cos(x2)*math.cos(y1-y2))\n",
    "print(\"地球上，这两点的距离为：\",abs(d))"
   ]
  },
  {
   "cell_type": "markdown",
   "metadata": {},
   "source": [
    "- 3\n",
    "<img src=\"../Photo/27.png\"><img>"
   ]
  },
  {
   "cell_type": "code",
   "execution_count": 25,
   "metadata": {},
   "outputs": [
    {
     "name": "stdout",
     "output_type": "stream",
     "text": [
      "请输入五角形的边长：5.5\n",
      "五角形的面积为： 27.472389340202703\n"
     ]
    }
   ],
   "source": [
    "import math\n",
    "s = eval(input(\"请输入五角形的边长：\"))\n",
    "area = 5*s*s/4*math.tan(math.pi/5)\n",
    "print(\"五角形的面积为：\",area)"
   ]
  },
  {
   "cell_type": "markdown",
   "metadata": {},
   "source": [
    "- 4\n",
    "<img src=\"../Photo/28.png\"><img>"
   ]
  },
  {
   "cell_type": "code",
   "execution_count": 26,
   "metadata": {},
   "outputs": [
    {
     "name": "stdout",
     "output_type": "stream",
     "text": [
      "请输入多边形的边数：4\n",
      "请输入多边形的边长：4\n",
      "五角形的面积为： 15.999999999999998\n"
     ]
    }
   ],
   "source": [
    "import math\n",
    "n = eval(input(\"请输入多边形的边数：\"))\n",
    "s = eval(input(\"请输入多边形的边长：\"))\n",
    "area = n*s*s/4*math.tan(math.pi/n)\n",
    "print(\"五角形的面积为：\",area)"
   ]
  },
  {
   "cell_type": "code",
   "execution_count": null,
   "metadata": {},
   "outputs": [],
   "source": []
  },
  {
   "cell_type": "markdown",
   "metadata": {},
   "source": [
    "- 5\n",
    "<img src=\"../Photo/29.png\"><img>\n",
    "<img src=\"../Photo/30.png\"><img>"
   ]
  },
  {
   "cell_type": "code",
   "execution_count": 34,
   "metadata": {},
   "outputs": [
    {
     "name": "stdout",
     "output_type": "stream",
     "text": [
      "请输入一个ASCII码的值（一个0-127之间的整数不包括0和127）：97\n",
      "这个ASC码对应的字符是： a\n"
     ]
    }
   ],
   "source": [
    "asc = int(input(\"请输入一个ASCII码的值（一个0-127之间的整数不包括0和127）：\"))\n",
    "print(\"这个ASC码对应的字符是：\",chr(asc))"
   ]
  },
  {
   "cell_type": "markdown",
   "metadata": {},
   "source": [
    "- 6\n",
    "<img src=\"../Photo/31.png\"><img>"
   ]
  },
  {
   "cell_type": "code",
   "execution_count": 1,
   "metadata": {},
   "outputs": [
    {
     "name": "stdout",
     "output_type": "stream",
     "text": [
      "雇员姓名：lcl\n",
      "每小时报酬：9.75\n",
      "联邦扣税率：0.2\n",
      "周预扣税率：0.09\n",
      "雇员姓名： lcl\n",
      "每小时报酬： 9.75\n",
      "联邦扣税率： 0.2\n",
      "州与扣税率： 0.09\n",
      "\t本月工资： 97.5\n",
      "\t联邦扣税： 19.5\n",
      "\t州扣税： 8.775\n",
      "本月实发工资： 69.225\n"
     ]
    }
   ],
   "source": [
    "import math\n",
    "Employee_Name = input(\"雇员姓名：\")\n",
    "Housr_Worked = eval(input(\"每小时报酬：\"))\n",
    "federal_tax_withholding_rate = eval(input(\"联邦扣税率：\"))\n",
    "state_tax_withholding_rate = eval(input(\"周预扣税率：\"))\n",
    "worked = Housr_Worked*10\n",
    "\n",
    "print(\"雇员姓名：\",Employee_Name)\n",
    "print(\"每小时报酬：\",Housr_Worked)\n",
    "print(\"联邦扣税率：\",federal_tax_withholding_rate)\n",
    "print(\"州与扣税率：\",state_tax_withholding_rate)\n",
    "print(\"\\t本月工资：\",worked)\n",
    "print(\"\\t联邦扣税：\",worked*federal_tax_withholding_rate)\n",
    "print(\"\\t州扣税：\",worked*state_tax_withholding_rate)\n",
    "print(\"本月实发工资：\",worked-(worked*federal_tax_withholding_rate+worked*state_tax_withholding_rate))"
   ]
  },
  {
   "cell_type": "markdown",
   "metadata": {},
   "source": [
    "- 7\n",
    "<img src=\"../Photo/32.png\"><img>"
   ]
  },
  {
   "cell_type": "code",
   "execution_count": null,
   "metadata": {},
   "outputs": [],
   "source": [
    "num0 = int(input(\"请输入一个整数\"))\n",
    "count=0\n",
    "num1=num0\n",
    "sum=0\n",
    "while num0>0:\n",
    "    num0=num0//10\n",
    "    count+=1\n",
    "i = 0\n",
    "while num1>0:\n",
    "    sum=sum+num1%10*10**(count-1)\n",
    "    count-=1\n",
    "    num1=num1//10\n",
    "print(\"这个数的颠倒数是：\",sum)   "
   ]
  },
  {
   "cell_type": "markdown",
   "metadata": {},
   "source": [
    "- 8 进阶：\n",
    "> 加密一串文本，并将解密后的文件写入本地保存"
   ]
  },
  {
   "cell_type": "code",
   "execution_count": null,
   "metadata": {},
   "outputs": [],
   "source": []
  }
 ],
 "metadata": {
  "kernelspec": {
   "display_name": "Python 3",
   "language": "python",
   "name": "python3"
  },
  "language_info": {
   "codemirror_mode": {
    "name": "ipython",
    "version": 3
   },
   "file_extension": ".py",
   "mimetype": "text/x-python",
   "name": "python",
   "nbconvert_exporter": "python",
   "pygments_lexer": "ipython3",
   "version": "3.6.4"
  }
 },
 "nbformat": 4,
 "nbformat_minor": 2
}
