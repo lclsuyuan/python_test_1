{
 "cells": [
  {
   "cell_type": "markdown",
   "metadata": {},
   "source": [
    "# 对象和类\n",
    "- 一个学生，一张桌子，一个圆都是对象\n",
    "- 对象是类的一个实例，你可以创建多个对象，创建类的一个实例过程被称为实例化，\n",
    "- 在Python中对象就是实例，而实例就是对象"
   ]
  },
  {
   "cell_type": "code",
   "execution_count": null,
   "metadata": {},
   "outputs": [],
   "source": [
    "class ClassName (object):\n",
    "    passs"
   ]
  },
  {
   "cell_type": "markdown",
   "metadata": {},
   "source": [
    "## 定义类\n",
    "class ClassName:\n",
    "\n",
    "    do something\n",
    "    \n",
    "- class 类的表示与def 一样\n",
    "- 类名最好使用驼峰式\n",
    "- 在Python2中类是需要继承基类object的，在Python中默认继承，可写可不写\n",
    "- 可以将普通代码理解为皮肤，而函数可以理解为内衣，那么类可以理解为外套"
   ]
  },
  {
   "cell_type": "code",
   "execution_count": 8,
   "metadata": {},
   "outputs": [
    {
     "name": "stdout",
     "output_type": "stream",
     "text": [
      "播放音乐2\n"
     ]
    }
   ],
   "source": [
    "import pygame\n",
    "class Music :\n",
    "    def play( ):\n",
    "        pygame.mixer.init()\n",
    "        print(\"播放音乐2\")\n",
    "        track1=pygame.mixer.music.load(\"C:\\CloudMusic\\F.I.R. - 月牙湾.mp3\")\n",
    "        pygame.mixer.music.play()\n",
    "Music.play()"
   ]
  },
  {
   "cell_type": "markdown",
   "metadata": {},
   "source": [
    "## 定义一个不含初始化__init__的简单类\n",
    "class ClassName:\n",
    "\n",
    "    joker = “Home”\n",
    "    \n",
    "    def func():\n",
    "        print('Worker')\n",
    "    \n",
    "- 尽量少使用"
   ]
  },
  {
   "cell_type": "markdown",
   "metadata": {},
   "source": [
    "## 定义一个标准类\n",
    "- __init__ 代表初始化，可以初始化任何动作\n",
    "- 此时类调用要使用()，其中（）可以理解为开始初始化\n",
    "- 初始化内的元素，类中其他的函数可以共享\n",
    "![](../Photo/85.png)"
   ]
  },
  {
   "cell_type": "code",
   "execution_count": 15,
   "metadata": {},
   "outputs": [],
   "source": [
    "class Test :\n",
    "    def __init__(self):\n",
    "        self.num_test = int(input('>> ')) \n",
    "    def num_pingfang(self):\n",
    "        print(self.num_test**2)\n",
    "    def num_lifang(self):\n",
    "        print(self.num_test**3)"
   ]
  },
  {
   "cell_type": "code",
   "execution_count": 16,
   "metadata": {},
   "outputs": [
    {
     "name": "stdout",
     "output_type": "stream",
     "text": [
      ">> 9\n",
      "81\n",
      ">> 7\n",
      "343\n"
     ]
    }
   ],
   "source": [
    "#Test()\n",
    "Test().num_pingfang()\n",
    "Test().num_lifang()"
   ]
  },
  {
   "cell_type": "markdown",
   "metadata": {},
   "source": [
    "- Circle 和 className_ 的第一个区别有 __init__ 这个函数\n",
    "- 。。。。   第二个区别，类中的每一个函数都有self的这个“参数”"
   ]
  },
  {
   "cell_type": "markdown",
   "metadata": {},
   "source": [
    "## 何为self？\n",
    "- self 是指向对象本身的参数\n",
    "- self 只是一个命名规则，其实可以改变的，但是我们约定俗成的是self，也便于理解\n",
    "- 使用了self就可以访问类中定义的成员\n",
    "<img src=\"../Photo/86.png\"></img>"
   ]
  },
  {
   "cell_type": "markdown",
   "metadata": {},
   "source": [
    "## 使用类 Cirlcle"
   ]
  },
  {
   "cell_type": "markdown",
   "metadata": {},
   "source": [
    "## 类的传参\n",
    "- class ClassName:\n",
    "    \n",
    "        def __init__(self, para1,para2...)：\n",
    "            \n",
    "            self.para1 = para1\n",
    "            \n",
    "            self.para2 = para2"
   ]
  },
  {
   "cell_type": "markdown",
   "metadata": {},
   "source": [
    "## EP:\n",
    "- A：定义一个类，类中含有两个功能：\n",
    "    - 1、计算随机数的最大值\n",
    "    - 2、计算随机数的最小值\n",
    "- B：定义一个类，（类中函数的嵌套使用）\n",
    "    - 1、第一个函数的功能为：输入一个数字\n",
    "    - 2、第二个函数的功能为：使用第一个函数中得到的数字进行平方处理\n",
    "    - 3、第三个函数的功能为：得到平方处理后的数字 - 原来输入的数字，并打印结果"
   ]
  },
  {
   "cell_type": "code",
   "execution_count": null,
   "metadata": {},
   "outputs": [],
   "source": [
    "import random\n",
    "class Epa() :\n",
    "    def __init__(self):\n",
    "        self.list_ep_1 = []\n",
    "        for i in range(10):\n",
    "              self.list_ep_1[i]=random.randint(1,100)\n",
    "    def max_ep(self):\n",
    "        list_max = max(l)\n",
    "        print(list_max)\n",
    "    def min_ep(self):\n",
    "        list_min = min(l)\n",
    "        print(list_min)"
   ]
  },
  {
   "cell_type": "code",
   "execution_count": null,
   "metadata": {},
   "outputs": [],
   "source": [
    "a =  "
   ]
  },
  {
   "cell_type": "markdown",
   "metadata": {},
   "source": [
    "## 类的继承\n",
    "- 类的单继承\n",
    "- 类的多继承\n",
    "- 继承标识\n",
    ">  class SonClass(FatherClass):\n",
    "            \n",
    "            def __init__(self):\n",
    "            \n",
    "                FatherClass.__init__(self)"
   ]
  },
  {
   "cell_type": "code",
   "execution_count": 23,
   "metadata": {},
   "outputs": [],
   "source": [
    "class Pow2():\n",
    "    def __init__(self):\n",
    "        self.num1 = int(input(\"num1 >> \"))\n",
    "    def pow2(self) :\n",
    "        res1 = self.num1 ** 2\n",
    "        return res1\n",
    "class Pow3():\n",
    "    def __init__(self):\n",
    "        self.num2 = int(input(\"num2 >> \"))\n",
    "    def pow3 (self) :\n",
    "        res2 = self.num2**3\n",
    "        return res2\n",
    "class chazhi(Pow2,Pow3):\n",
    "    def __init__(self):\n",
    "        Pow2.__init__(self)\n",
    "        Pow3.__init__(self)\n",
    "    def cha (self) :\n",
    "        RES1 = self.pow2()\n",
    "        RES2 = self.pow3()\n",
    "        print(RES1 - RES2)"
   ]
  },
  {
   "cell_type": "code",
   "execution_count": 24,
   "metadata": {},
   "outputs": [
    {
     "name": "stdout",
     "output_type": "stream",
     "text": [
      "num1 >> 2\n",
      "num2 >> 3\n",
      "-23\n"
     ]
    }
   ],
   "source": [
    "chazhi().cha()"
   ]
  },
  {
   "cell_type": "markdown",
   "metadata": {},
   "source": [
    "## 私有数据域(私有变量，或者私有函数)\n",
    "- 在Python中 变量名或者函数名使用双下划线代表私有  \\__Joker,   def \\__Joker():\n",
    "- 私有数据域不可继承\n",
    "- 私有数据域强制继承   \\__dir__()"
   ]
  },
  {
   "cell_type": "markdown",
   "metadata": {},
   "source": [
    "![](../Photo/87.png)"
   ]
  },
  {
   "cell_type": "markdown",
   "metadata": {},
   "source": [
    "## EP:\n",
    "![](../Photo/88.png)\n",
    "![](../Photo/89.png)\n",
    "![](../Photo/90.png)\n"
   ]
  },
  {
   "cell_type": "markdown",
   "metadata": {},
   "source": [
    "## 类的其他\n",
    "- 类的封装\n",
    "    - 实际上就是将一类功能放在一起，方便未来进行管理\n",
    "- 类的继承（上面已经讲过）\n",
    "- 类的多态\n",
    "    - 包括装饰器：将放在以后处理高级类中教\n",
    "    - 装饰器的好处：当许多类中的函数需要使用同一个功能的时候，那么使用装饰器就会方便许多\n",
    "    - 装饰器是有固定的写法\n",
    "        - 其包括普通装饰器与带参装饰器"
   ]
  },
  {
   "cell_type": "markdown",
   "metadata": {},
   "source": [
    "# Homewor\n",
    "## UML类图可以不用画\n",
    "## UML 实际上就是一个思维图\n",
    "- 1\n",
    "![](../Photo/91.png)"
   ]
  },
  {
   "cell_type": "code",
   "execution_count": 35,
   "metadata": {},
   "outputs": [],
   "source": [
    "class Rectangle():\n",
    "    def __init__(self,width,height) :\n",
    "        self.width = width\n",
    "        self.height = height\n",
    "    def getArea (self):\n",
    "        area = self.height * self.width\n",
    "        return area \n",
    "    def getPerimeter(self) :\n",
    "        perimeter = self.width *2 + self.height*2\n",
    "        return perimeter    "
   ]
  },
  {
   "cell_type": "code",
   "execution_count": 36,
   "metadata": {},
   "outputs": [
    {
     "name": "stdout",
     "output_type": "stream",
     "text": [
      "rectangle1的面积是: 160 rectanfle1的周长是： 88\n",
      "rectangle2的面积是: 124.95000000000002 rectanfle2的周长是： 78.4\n",
      "请输入矩形的底边长：2\n",
      "请输入矩形的高：3\n",
      "rectangle的面积是: 6 rectanfle的周长是： 10\n"
     ]
    }
   ],
   "source": [
    "rectangle1 = Rectangle(4,40)\n",
    "rectangle1_area = rectangle1.getArea()\n",
    "rectangle1_perimeter = rectangle1.getPerimeter()\n",
    "rectangle2 = Rectangle(3.5,35.7)\n",
    "rectangle2_area = rectangle2.getArea()\n",
    "rectangle2_perimeter = rectangle2.getPerimeter()\n",
    "print('rectangle1的面积是:',rectangle1_area,'rectanfle1的周长是：',rectangle1_perimeter)\n",
    "print('rectangle2的面积是:',rectangle2_area,'rectanfle2的周长是：',rectangle2_perimeter)\n",
    "input_wdith = eval(input('请输入矩形的底边长：'))\n",
    "input_height = eval(input('请输入矩形的高：'))\n",
    "rectangle = Rectangle(input_wdith,input_height)\n",
    "rectangle_area = rectangle.getArea()\n",
    "rectangle_perimeter = rectangle.getPerimeter()\n",
    "print('rectangle的面积是:',rectangle_area,'rectanfle的周长是：',rectangle_perimeter)"
   ]
  },
  {
   "cell_type": "markdown",
   "metadata": {},
   "source": [
    "- 2\n",
    "![](../Photo/92.png)"
   ]
  },
  {
   "cell_type": "code",
   "execution_count": 48,
   "metadata": {},
   "outputs": [],
   "source": [
    "class Account ():\n",
    "    def __init__(self,id = 0,balance = 100,rate = 0):\n",
    "        self.__id = id\n",
    "        self.__balance = balance\n",
    "        self.__rate = rate\n",
    "    def getid(self) :\n",
    "        return self.__id\n",
    "    def getMonthlyInterestRate(self) :\n",
    "        monthlyinterestrate = self.__rate / 12\n",
    "        return monthlyinterestrate\n",
    "    def getMonthlyInterest(self) :\n",
    "        monthlyinterest = self.__balance * (self.__rate / 100 / 12)\n",
    "        return monthlyinterest\n",
    "    def withdraw (self,qukuaner) :\n",
    "        if qukuaner > self.__balance :\n",
    "            peint('余额不足')\n",
    "        else :\n",
    "            self.__balance -= qukuaner\n",
    "            return self.__balance\n",
    "    def deposit (self,cunkuaner) :\n",
    "        self.__balance += cunkuaner\n",
    "        return self.__balance\n",
    "    "
   ]
  },
  {
   "cell_type": "code",
   "execution_count": 49,
   "metadata": {
    "scrolled": true
   },
   "outputs": [
    {
     "name": "stdout",
     "output_type": "stream",
     "text": [
      "id ;  1 月利率 ：  0.0375 月利息 ：  7.500000000000001 取款后的余额 ： 17500 存款后的余额 ： 20500\n"
     ]
    }
   ],
   "source": [
    "account = Account(id=1122,balance = 20000,rate = 0.45)\n",
    "account_id = 1\n",
    "account_mon_inter_rate = account.getMonthlyInterestRate()\n",
    "account_mon_inter = account.getMonthlyInterest()\n",
    "account_withdraw = account.withdraw(2500)\n",
    "account_deposit = account.deposit(3000)\n",
    "print('id ; ',account_id,'月利率 ： ',account_mon_inter_rate,'月利息 ： ',account_mon_inter,'取款后的余额 ：',account_withdraw,'存款后的余额 ：',account_deposit)"
   ]
  },
  {
   "cell_type": "markdown",
   "metadata": {},
   "source": [
    "- 3\n",
    "![](../Photo/93.png)"
   ]
  },
  {
   "cell_type": "code",
   "execution_count": 68,
   "metadata": {},
   "outputs": [],
   "source": [
    "class Fan () :\n",
    "    def __init__(self):\n",
    "        self.slow = 1\n",
    "        self.medium = 2\n",
    "        self.fast = 3\n",
    "        self.__speed = self.slow\n",
    "        self.__on = False\n",
    "        self.__radius = 5.0\n",
    "        self.__color = 'blue'\n",
    "        \n",
    "    def setSpeed (self,set_speed) :\n",
    "        self.__speed = set_speed\n",
    "        return self.__speed\n",
    "    def setOn (self,seton) :\n",
    "        self.__on = seton\n",
    "        return self.__on\n",
    "    def setRadius (self,setradius) :\n",
    "        self.__radius = setradius\n",
    "        return self.__radius\n",
    "    def setColor (self,setcolor) :\n",
    "        self.__color = setcolor\n",
    "        return self.__color\n",
    "    "
   ]
  },
  {
   "cell_type": "code",
   "execution_count": 69,
   "metadata": {},
   "outputs": [
    {
     "name": "stdout",
     "output_type": "stream",
     "text": [
      "fan1  速度 ：  3 开关 :  True 半径 ： 10 颜色 ：  yellow\n",
      "fan2  速度 ：  2 开关 :  False 半径 ： 5 颜色 ：  blue\n"
     ]
    }
   ],
   "source": [
    "fan1 = Fan()\n",
    "fan1_speed = fan1.setSpeed(3)\n",
    "fan1_on = fan1.setOn(True)\n",
    "fan1_radius = fan1.setRadius(10)\n",
    "fan1_color = fan1.setColor('yellow')\n",
    "print('fan1  速度 ： ',fan1_speed,'开关 : ',fan1_on,'半径 ：',fan1_radius,'颜色 ： ',fan1_color)\n",
    "fan2 = Fan()\n",
    "fan2_speed = fan2.setSpeed(2)\n",
    "fan2_on = fan2.setOn(False)\n",
    "fan2_radius = fan2.setRadius(5)\n",
    "fan2_color = fan2.setColor('blue')\n",
    "print('fan2  速度 ： ',fan2_speed,'开关 : ',fan2_on,'半径 ：',fan2_radius,'颜色 ： ',fan2_color)"
   ]
  },
  {
   "cell_type": "markdown",
   "metadata": {},
   "source": [
    "- 4\n",
    "![](../Photo/94.png)\n",
    "![](../Photo/95.png)"
   ]
  },
  {
   "cell_type": "code",
   "execution_count": 70,
   "metadata": {},
   "outputs": [],
   "source": [
    "import math\n",
    "class RegularPolygon () :\n",
    "    def __init__(self,n = 3,side = 1,x = 0,y = 0) :\n",
    "        self.__n = n\n",
    "        self.__side = side\n",
    "        self.__x = x\n",
    "        self.__y = y\n",
    "    def setN (self,setn) :\n",
    "        self.__n = setn\n",
    "        return self.__n\n",
    "    def setSide (self,setside) :\n",
    "        self.__side = setside\n",
    "        return self.__side\n",
    "    def setX (self,setx) :\n",
    "        self.__x = setx\n",
    "        return self.__x\n",
    "    def sety (self,sety) :\n",
    "        self.__y = sety\n",
    "        return self.__y\n",
    "    def getArea (self) :\n",
    "        area = self.__n * self.__side ** 2 / 4 * math.tan(math.pi / self.__n)\n",
    "        return area \n",
    "    def getPerimeter (self) :\n",
    "        perimeter = self.__side * self.__n\n",
    "        return perimeter\n"
   ]
  },
  {
   "cell_type": "code",
   "execution_count": 78,
   "metadata": {},
   "outputs": [
    {
     "name": "stdout",
     "output_type": "stream",
     "text": [
      "reg_polu1  周长 ： 3 reg_polu1  面积 ： 1.2990381056766576\n",
      "reg_polu2  周长 ： 24 reg_polu2  面积 ： 13.856406460551018\n",
      "reg_polu3  周长 ： 40 reg_polu3  面积 ： 12.996787849316252\n"
     ]
    }
   ],
   "source": [
    "reg_poly1 = RegularPolygon()\n",
    "reg_poly1_per = reg_poly1.getPerimeter()\n",
    "reg_poly1_area = reg_poly1.getArea()\n",
    "print('reg_polu1  周长 ：',reg_poly1_per,'reg_polu1  面积 ：',reg_poly1_area)\n",
    "reg_poly2 = RegularPolygon(6,4)\n",
    "reg_poly2_per = reg_poly2.getPerimeter()\n",
    "reg_poly2_area = reg_poly2.getArea()\n",
    "print('reg_polu2  周长 ：',reg_poly2_per,'reg_polu2  面积 ：',reg_poly2_area)\n",
    "reg_poly3 = RegularPolygon(10,4,5.6,7.8)\n",
    "reg_poly3_per = reg_poly3.getPerimeter()\n",
    "reg_poly3_area = reg_poly3.getArea()\n",
    "print('reg_polu3  周长 ：',reg_poly3_per,'reg_polu3  面积 ：',reg_poly3_area)"
   ]
  },
  {
   "cell_type": "markdown",
   "metadata": {},
   "source": [
    "- 5\n",
    "![](../Photo/96.png)"
   ]
  },
  {
   "cell_type": "code",
   "execution_count": 90,
   "metadata": {},
   "outputs": [],
   "source": [
    "class LinearEquation () :\n",
    "    def __init__(self,a,b,c,d,e,f) :\n",
    "        self.__a = a\n",
    "        self.__b = b\n",
    "        self.__c = c\n",
    "        self.__d = d\n",
    "        self.__e = e\n",
    "        self.__f = f\n",
    "    def geta (self,geta) :\n",
    "        self.__a = geta\n",
    "        return self.__a\n",
    "    def getB (self,getb) :\n",
    "        self.__b = getb\n",
    "        return self.__b\n",
    "    def getC (self,getc) :\n",
    "        self.__c = getc\n",
    "        return self.__c\n",
    "    def getD (self,getd) :\n",
    "        self.__d = getd\n",
    "        return self.__d\n",
    "    def getE (self,gete) :\n",
    "        self.__e = gete\n",
    "        return self.__e\n",
    "    def getF (self,getf) :\n",
    "        self.__f = getf\n",
    "        return self.__f\n",
    "    def isSolvable (self) :\n",
    "        if self.__a * self.__d - self.__b * self.__c != 0 :\n",
    "            return True\n",
    "        else :\n",
    "            return False\n",
    "    def getX(self) :\n",
    "        x = (self.__e * self.__d - self.__b * self.__f) / (self.__a * self.__d - self.__b * self.__c) \n",
    "        return x\n",
    "    def getY(self) :\n",
    "        y = (self.__a * self.__f - self.__e * self.__c) / (self.__a * self.__d - self.__b * self.__c) \n",
    "        return y"
   ]
  },
  {
   "cell_type": "code",
   "execution_count": 91,
   "metadata": {},
   "outputs": [
    {
     "name": "stdout",
     "output_type": "stream",
     "text": [
      "请依次输入a，b，c，d，e，f : 1,2,2,4,4,5\n",
      "这个方程无解\n"
     ]
    }
   ],
   "source": [
    "a,b,c,d,e,f = eval(input(\"请依次输入a，b，c，d，e，f : \"))\n",
    "le = LinearEquation(a,b,c,d,e,f)\n",
    "if le.isSolvable() == 0 :\n",
    "    print(\"这个方程无解\")\n",
    "else :\n",
    "    le_x = le.getX()\n",
    "    le_y = le.getY()\n",
    "    print(' x根 ',le_x,' y根 ',le_y)"
   ]
  },
  {
   "cell_type": "markdown",
   "metadata": {},
   "source": [
    "- 6\n",
    "![](../Photo/97.png)"
   ]
  },
  {
   "cell_type": "code",
   "execution_count": 93,
   "metadata": {},
   "outputs": [
    {
     "name": "stdout",
     "output_type": "stream",
     "text": [
      "请输入第一条线段的坐标2,0,2,1\n",
      "请输入第二条线段的坐标1,1,0,0\n",
      "无法计算\n"
     ]
    }
   ],
   "source": [
    "x1,y1,x2,y2 = eval(input('请输入第一条线段的坐标'))\n",
    "x3,y3,x4,y4 = eval(input('请输入第二条线段的坐标'))\n",
    "if x2 - x1 == 0 or x4 - x3 == 0 :\n",
    "    print('无法计算')\n",
    "else :    \n",
    "    k1 = (y2-y1) / (x2-x1)\n",
    "    b1 = y1-k1*x1\n",
    "    k2 = (y4-y3) / (x4-x3)\n",
    "    b2 = y3-k2*x3\n",
    "    x = (b2 - b1) / (k1 - k2)\n",
    "    y = k1 * x + b1\n",
    "    print(x,y)"
   ]
  },
  {
   "cell_type": "markdown",
   "metadata": {},
   "source": [
    "- 7\n",
    "![](../Photo/98.png)"
   ]
  },
  {
   "cell_type": "code",
   "execution_count": 28,
   "metadata": {},
   "outputs": [],
   "source": [
    "import requests,re\n",
    "url = 'http://www.baidu.com'\n",
    "respones = requests.get(url)\n",
    "respones.encodingding = 'utf-8'\n"
   ]
  },
  {
   "cell_type": "code",
   "execution_count": null,
   "metadata": {},
   "outputs": [],
   "source": []
  }
 ],
 "metadata": {
  "kernelspec": {
   "display_name": "Python 3",
   "language": "python",
   "name": "python3"
  },
  "language_info": {
   "codemirror_mode": {
    "name": "ipython",
    "version": 3
   },
   "file_extension": ".py",
   "mimetype": "text/x-python",
   "name": "python",
   "nbconvert_exporter": "python",
   "pygments_lexer": "ipython3",
   "version": "3.6.4"
  }
 },
 "nbformat": 4,
 "nbformat_minor": 2
}
