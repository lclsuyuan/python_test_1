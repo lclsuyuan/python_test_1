{
 "cells": [
  {
   "cell_type": "markdown",
   "metadata": {},
   "source": [
    "# 选择\n",
    "## 布尔类型、数值和表达式\n",
    "![](../Photo/33.png)\n",
    "- 注意：比较运算符的相等是两个等到，一个等到代表赋值\n",
    "- 在Python中可以用整型0来代表False，其他数字来代表True\n",
    "- 后面还会讲到 is 在判断语句中的用发"
   ]
  },
  {
   "cell_type": "code",
   "execution_count": null,
   "metadata": {},
   "outputs": [],
   "source": [
    "#循环中实数都代表true。直接用等号比较整数和布尔类型则不成立"
   ]
  },
  {
   "cell_type": "markdown",
   "metadata": {},
   "source": [
    "## 字符串的比较使用ASCII值"
   ]
  },
  {
   "cell_type": "code",
   "execution_count": null,
   "metadata": {},
   "outputs": [
    {
     "name": "stdout",
     "output_type": "stream",
     "text": [
      "请输入分数101\n",
      "没有这样的分数，请重新输入\n",
      "请输入分数96\n",
      "A\n",
      "请输入分数80\n",
      "请输入分数88\n",
      "B\n"
     ]
    }
   ],
   "source": [
    "# while True:\n",
    "#     fenshu = eval(input(\"请输入分数\"))\n",
    "#     if fenshu > 100 :\n",
    "#         print(\"没有这样的分数，请重新输入\")\n",
    "#     elif 90 < fenshu <= 100 :\n",
    "#         print(\"A\")\n",
    "#     elif 80 < fenshu <= 90 :\n",
    "#         print(\"B\")\n",
    "#     elif 70 < fenshu <= 80 :\n",
    "#         print(\"C\")"
   ]
  },
  {
   "cell_type": "markdown",
   "metadata": {},
   "source": [
    "## Markdown \n",
    "- https://github.com/younghz/Markdown"
   ]
  },
  {
   "cell_type": "markdown",
   "metadata": {},
   "source": [
    "## EP:\n",
    "- <img src=\"../Photo/34.png\"></img>\n",
    "- 输入一个数字，判断其实奇数还是偶数"
   ]
  },
  {
   "cell_type": "markdown",
   "metadata": {},
   "source": [
    "## 产生随机数字\n",
    "- 函数random.randint(a,b) 可以用来产生一个a和b之间且包括a和b的随机整数"
   ]
  },
  {
   "cell_type": "code",
   "execution_count": 2,
   "metadata": {},
   "outputs": [
    {
     "name": "stdout",
     "output_type": "stream",
     "text": [
      "请输入1-100之间的整数99\n",
      "太大了，请重新输入\n",
      "请输入1-100之间的整数50\n",
      "太小了，请重新输入\n",
      "请输入1-100之间的整数60\n",
      "太小了，请重新输入\n",
      "请输入1-100之间的整数70\n",
      "太小了，请重新输入\n",
      "请输入1-100之间的整数80\n",
      "太大了，请重新输入\n",
      "请输入1-100之间的整数75\n",
      "太大了，请重新输入\n",
      "请输入1-100之间的整数73\n",
      "恭喜你，猜对了！\n"
     ]
    }
   ],
   "source": [
    "import random \n",
    "num = int(input(\"请输入1-100之间的整数\"))\n",
    "a = random.randint(1,100)\n",
    "while num !=a:\n",
    "    if num > a:\n",
    "        print(\"太大了，请重新输入\")\n",
    "        num = int(input(\"请输入1-100之间的整数\"))\n",
    "    elif num < a :\n",
    "        print(\"太小了，请重新输入\")\n",
    "        num = int(input(\"请输入1-100之间的整数\"))\n",
    "print(\"恭喜你，猜对了！\")"
   ]
  },
  {
   "cell_type": "markdown",
   "metadata": {},
   "source": [
    "##  其他random方法\n",
    "- random.random 返回0.0到1.0之间前闭后开区间的随机浮点\n",
    "- random.randrange(a,b) 前闭后开"
   ]
  },
  {
   "cell_type": "markdown",
   "metadata": {},
   "source": [
    "## EP：\n",
    "- 产生两个随机整数number1和number2，然后显示给用户，使用户输入数字的和，并判定其是否正确\n",
    "- 进阶:写一个随机序号点名程序"
   ]
  },
  {
   "cell_type": "code",
   "execution_count": 27,
   "metadata": {},
   "outputs": [
    {
     "name": "stdout",
     "output_type": "stream",
     "text": [
      "请输入用户等级a\n",
      "你用这里想一想，不充钱怎么变得更强！\n",
      "33\n",
      "33\n",
      "恭喜你，喜提狗命一条！\n",
      "33\n",
      "恭喜你，喜提狗命一条！\n",
      "33\n",
      "恭喜你，喜提狗命一条！\n"
     ]
    }
   ],
   "source": [
    "import random\n",
    "i =3\n",
    "user  = input(\"请输入用户等级\")\n",
    "if user == 'svip':\n",
    "    a = random.randint(99,100)\n",
    "    print(a)\n",
    "elif user == 'svip':\n",
    "    a = random.randint(75,100)\n",
    "    print(a)\n",
    "else :\n",
    "    a = random.randint(0,100)\n",
    "    print(\"你用这里想一想，不充钱怎么变得更强！\")\n",
    "    print(a)\n",
    "while i > 0:\n",
    "    i -= 1\n",
    "    print(a)\n",
    "    if 0 < a <=80 :\n",
    "        print(\"恭喜你，喜提狗命一条！\")\n",
    "    elif 80 < a <= 98:\n",
    "        print(\"恭喜你，快递老婆一个'\")\n",
    "    elif 99 <= a <= 100:\n",
    "        print(\"恭喜你，你该去搬砖了！！\")"
   ]
  },
  {
   "cell_type": "markdown",
   "metadata": {},
   "source": [
    "## if语句\n",
    "- 如果条件正确就执行一个单向if语句，亦即当条件为真的时候才执行if内部的语句\n",
    "- Python有很多选择语句:\n",
    "> - 单向if \n",
    "  - 双向if-else\n",
    "  - 嵌套if\n",
    "  - 多向if-elif-else\n",
    "  \n",
    "- 注意：当语句含有子语句的时候，那么一定至少要有一个缩进，也就是说如果有儿子存在，那么一定要缩进\n",
    "- 切记不可tab键和space混用，单用tab 或者 space\n",
    "- 当你输出的结果是无论if是否为真时都需要显示时，语句应该与if对齐"
   ]
  },
  {
   "cell_type": "code",
   "execution_count": 23,
   "metadata": {},
   "outputs": [
    {
     "name": "stdout",
     "output_type": "stream",
     "text": [
      "请输入年龄25\n",
      "请输入长相参数，1=帅，2=中等，3=丑3\n",
      "不见，丑拒\n"
     ]
    }
   ],
   "source": [
    "age = int(input(\"请输入年龄\"))\n",
    "if age < 30:\n",
    "    zhangxiang = int(input(\"请输入长相参数，1=帅，2=中等，3=丑\"))\n",
    "    if zhangxiang==1 or zhangxiang==2 :\n",
    "    #or 表示逻辑或\n",
    "        shouru = int(input(\"请输入收入参数，1=高，2=中等，3=低\"))\n",
    "        if shouru==1:\n",
    "            print(\"见\")\n",
    "        elif shouru == 2:\n",
    "            gwy = int(input(\"请输入是否是公务员，1是，2不是\"))\n",
    "            if gwy ==1 :\n",
    "                print(\"见\")\n",
    "            else:\n",
    "                print(\"不见,没前途\")\n",
    "        else:\n",
    "            print(\"不见，穷拒\")\n",
    "    else:\n",
    "        print(\"不见，丑拒\")\n",
    "else:\n",
    "    print(\"不见，老拒\")"
   ]
  },
  {
   "cell_type": "markdown",
   "metadata": {},
   "source": [
    "## EP：\n",
    "- 用户输入一个数字，判断其实奇数还是偶数\n",
    "- 进阶：可以查看下4.5实例研究猜生日"
   ]
  },
  {
   "cell_type": "code",
   "execution_count": null,
   "metadata": {},
   "outputs": [],
   "source": []
  },
  {
   "cell_type": "markdown",
   "metadata": {},
   "source": [
    "## 双向if-else 语句\n",
    "- 如果条件为真，那么走if内部语句，否则走else内部语句"
   ]
  },
  {
   "cell_type": "markdown",
   "metadata": {},
   "source": [
    "## EP：\n",
    "- 产生两个随机整数number1和number2，然后显示给用户，使用户输入数字，并判定其是否正确,如果正确打印“you‘re correct”，否则打印正确错误"
   ]
  },
  {
   "cell_type": "markdown",
   "metadata": {},
   "source": [
    "## 嵌套if 和多向if-elif-else\n",
    "![](../Photo/35.png)"
   ]
  },
  {
   "cell_type": "markdown",
   "metadata": {},
   "source": [
    "## EP：\n",
    "- 提示用户输入一个年份，然后显示表示这一年的动物\n",
    "![](../Photo/36.png)\n",
    "- 计算身体质量指数的程序\n",
    "- BMI = 以千克为单位的体重除以以米为单位的身高\n",
    "![](../Photo/37.png)"
   ]
  },
  {
   "cell_type": "code",
   "execution_count": 54,
   "metadata": {},
   "outputs": [
    {
     "name": "stdout",
     "output_type": "stream",
     "text": [
      "请输入你出生的年份1996\n",
      "你的属相是鼠\n"
     ]
    }
   ],
   "source": [
    "year = int(input(\"请输入你出生的年份\"))\n",
    "if year%12 == 0 :\n",
    "    print(\"你的属相是猴\")\n",
    "elif year%12 == 1 :\n",
    "    print(\"你的属相是鸡\")\n",
    "elif year%12 == 2 :\n",
    "    print(\"你的属相是狗\")\n",
    "elif year%12 == 3 :\n",
    "    print(\"你的属相是猪\")\n",
    "elif year%12 == 4 :\n",
    "    print(\"你的属相是鼠\")\n",
    "elif year%12 == 5 :\n",
    "    print(\"你的属相是牛\")\n",
    "elif year%12 == 6 :\n",
    "    print(\"你的属相是虎\")\n",
    "elif year%12 == 7 :\n",
    "    print(\"你的属相是兔\")\n",
    "elif year%12 == 8 :\n",
    "    print(\"你的属相是龙\")\n",
    "elif year%12 == 9 :\n",
    "    print(\"你的属相是蛇\")\n",
    "elif year%12 == 10 :\n",
    "    print(\"你的属相是马\")\n",
    "elif year%12 == 11 :\n",
    "    print(\"你的属相是羊\")"
   ]
  },
  {
   "cell_type": "code",
   "execution_count": 58,
   "metadata": {},
   "outputs": [
    {
     "name": "stdout",
     "output_type": "stream",
     "text": [
      "请输入以千克为单位的体重和以米为单位的身高，隔开：70,1.8\n",
      "正常\n"
     ]
    }
   ],
   "source": [
    "weight,highe = eval(input(\"请输入以千克为单位的体重和以米为单位的身高，隔开：\"))\n",
    "bmi = weight/highe**2\n",
    "if bmi >= 30.0 :\n",
    "    print(\"严重超重\")\n",
    "elif 25.0 <= bmi < 30 :\n",
    "    print(\"超重\")\n",
    "elif 18.5 <= bmi < 25 :\n",
    "    print(\"正常\")\n",
    "elif bmi <= 18.5 :\n",
    "    print(\"太轻\")"
   ]
  },
  {
   "cell_type": "markdown",
   "metadata": {},
   "source": [
    "## 逻辑运算符\n",
    "![](../Photo/38.png)"
   ]
  },
  {
   "cell_type": "markdown",
   "metadata": {},
   "source": [
    "![](../Photo/39.png)\n",
    "![](../Photo/40.png)"
   ]
  },
  {
   "cell_type": "markdown",
   "metadata": {},
   "source": [
    "## EP：\n",
    "- 判定闰年：一个年份如果能被4整除但不能被100整除，或者能被400整除，那么这个年份就是闰年\n",
    "- 提示用户输入一个年份，并返回是否是闰年\n",
    "- 提示用户输入一个数字，判断其是否为水仙花数"
   ]
  },
  {
   "cell_type": "code",
   "execution_count": 61,
   "metadata": {},
   "outputs": [
    {
     "name": "stdout",
     "output_type": "stream",
     "text": [
      "请输入年份2000\n",
      "闰年\n"
     ]
    }
   ],
   "source": [
    "year_ = int(input(\"请输入年份\"))\n",
    "if year_%4 == 0 and year % 100 != 0 or year % 400 ==0 :\n",
    "    print(\"闰年\")\n",
    "else :\n",
    "    print(\"非闰年\")"
   ]
  },
  {
   "cell_type": "code",
   "execution_count": null,
   "metadata": {},
   "outputs": [],
   "source": [
    "num_ = int(input(\"请输入一个三位数\"))\n",
    "num_copy = num_\n",
    "num0 = num_\n",
    "sum = 0\n",
    "count = 0\n",
    "while num0 > 0 :\n",
    "    num0 = num0 // 10\n",
    "    count += 1\n",
    "while num_ > 0 :\n",
    "    sum = sum + (num_ % 10)**count\n",
    "    print(sum)\n",
    "    num_ = num_ // 10\n",
    "if sum == num_copy :\n",
    "    print(\"这个数是水仙花数\")\n",
    "else :\n",
    "    print(\"这个数不是水仙花数\")"
   ]
  },
  {
   "cell_type": "markdown",
   "metadata": {},
   "source": [
    "## 实例研究：彩票\n",
    "![](../Photo/41.png)"
   ]
  },
  {
   "cell_type": "code",
   "execution_count": 4,
   "metadata": {},
   "outputs": [
    {
     "name": "stdout",
     "output_type": "stream",
     "text": [
      "75\n",
      "5 7\n",
      "57\n",
      "请输入一个两位数15\n",
      "100\n"
     ]
    }
   ],
   "source": [
    "import random\n",
    "lottery = random.randint(10,99)\n",
    "print(lottery)\n",
    "lottery_1 = lottery % 10\n",
    "lottery_2 = lottery // 10\n",
    "print(lottery_1,lottery_2)\n",
    "lottery_fan = lottery_1 * 10 + lottery_2\n",
    "print(lottery_fan)\n",
    "lottery_list = [lottery_1,lottery_2]\n",
    "input_0 = int(input(\"请输入一个两位数\"))\n",
    "input_1 = input_0 % 10\n",
    "input_2 = input_0 // 10\n",
    "if input_0 == lottery :\n",
    "    print(\"10000\")\n",
    "elif input_0 == lottery_fan :\n",
    "    print(\"3000\")\n",
    "elif input_1 in lottery_list or input_2 in lottery_list :\n",
    "    print(\"100\")\n"
   ]
  },
  {
   "cell_type": "markdown",
   "metadata": {},
   "source": [
    "# Homework\n",
    "- 1\n",
    "![](../Photo/42.png)"
   ]
  },
  {
   "cell_type": "code",
   "execution_count": 30,
   "metadata": {},
   "outputs": [
    {
     "name": "stdout",
     "output_type": "stream",
     "text": [
      "请输入abc的值，使用，隔开：1,2,3\n",
      "方程没有实根！\n"
     ]
    }
   ],
   "source": [
    "import math\n",
    "a,b,c = eval(input(\"请输入abc的值，使用，隔开：\"))\n",
    "judje = b**2-4*a*c\n",
    "if judje >0:\n",
    "    r1 = (-1*b+math.sqrt(judje))/2*a\n",
    "    r2 = (-1*b-math.sqrt(judje))/2*a\n",
    "    print(\"两个实根分别是r1=\",r1,\"r2=\",r2)\n",
    "elif judje == 0:\n",
    "    r = (-1*b+math.sqrt(judje))/2*a\n",
    "    print(\"只有一个实根是r=\",r)\n",
    "elif judje < 0:\n",
    "    print(\"方程没有实根！\")"
   ]
  },
  {
   "cell_type": "markdown",
   "metadata": {},
   "source": [
    "- 2\n",
    "![](../Photo/43.png)"
   ]
  },
  {
   "cell_type": "code",
   "execution_count": 34,
   "metadata": {},
   "outputs": [
    {
     "name": "stdout",
     "output_type": "stream",
     "text": [
      "67 + 13 =\n",
      "请输入答案：25\n",
      "False\n"
     ]
    }
   ],
   "source": [
    "import random \n",
    "num1 = random.randint(1,100)\n",
    "num2 = random.randint(1,100)\n",
    "sum = num1+num2\n",
    "print(num1,\"+\",num2,\"=\")\n",
    "input_ = int(input(\"请输入答案：\"))\n",
    "if input_ == sum :\n",
    "    print(\"True\")\n",
    "else :\n",
    "    print(\"False\")"
   ]
  },
  {
   "cell_type": "markdown",
   "metadata": {},
   "source": [
    "- 3\n",
    "![](../Photo/44.png)"
   ]
  },
  {
   "cell_type": "code",
   "execution_count": 39,
   "metadata": {},
   "outputs": [
    {
     "name": "stdout",
     "output_type": "stream",
     "text": [
      "请输入今天是星期几：2\n",
      "你想预测几天后的日期? :4\n",
      "4 天后是星期 6\n"
     ]
    }
   ],
   "source": [
    "todays = int(input('请输入今天是星期几：'))\n",
    "day = int(input(\"你想预测几天后的日期? :\"))\n",
    "if day+todays%7 != 0:\n",
    "    print(day,\"天后是星期\",(day+todays%7))\n",
    "else :\n",
    "    print(day,\"天后是星期天。\""
   ]
  },
  {
   "cell_type": "markdown",
   "metadata": {},
   "source": [
    "- 4\n",
    "![](../Photo/45.png)"
   ]
  },
  {
   "cell_type": "code",
   "execution_count": 49,
   "metadata": {},
   "outputs": [
    {
     "name": "stdout",
     "output_type": "stream",
     "text": [
      "请输入三个整数：2,3,1\n",
      "1 2 3\n"
     ]
    }
   ],
   "source": [
    "a1,b1,c1 = eval(input(\"请输入三个整数：\"))\n",
    "max_ = max(a1,b1,c1)\n",
    "min_ = min(a1,b1,c1)\n",
    "if a1 > min_ and a1 < max_:\n",
    "    print(min_,a1,max_)\n",
    "elif b1 > min_ and b1 < max_:\n",
    "    print(min_,b1,max_)\n",
    "elif c1 > min_ and c1 < max_:\n",
    "    print(min_,c1,max_)"
   ]
  },
  {
   "cell_type": "markdown",
   "metadata": {},
   "source": [
    "- 5\n",
    "![](../Photo/46.png)"
   ]
  },
  {
   "cell_type": "code",
   "execution_count": 52,
   "metadata": {},
   "outputs": [
    {
     "name": "stdout",
     "output_type": "stream",
     "text": [
      "请输入第一种大米的质量和价格20,1\n",
      "请输入第二种大米的质量和价格10,10\n",
      "请购买第二种大米。\n"
     ]
    }
   ],
   "source": [
    "weight1,price1 = eval(input(\"请输入第一种大米的质量和价格\"))\n",
    "weight2,price2 = eval(input(\"请输入第二种大米的质量和价格\"))\n",
    "if price1/weight1 > price2/weight2 :\n",
    "    print(\"请购买第二种大米。\")\n",
    "elif price1/weight1 < price2/weight2 :\n",
    "    print(\"请购买第一种大米。\")\n",
    "else:\n",
    "    print(\"两种大米一样。\")\n",
    "    "
   ]
  },
  {
   "cell_type": "markdown",
   "metadata": {},
   "source": [
    "- 6\n",
    "![](../Photo/47.png)"
   ]
  },
  {
   "cell_type": "code",
   "execution_count": 10,
   "metadata": {},
   "outputs": [
    {
     "name": "stdout",
     "output_type": "stream",
     "text": [
      "请输入年份和月份，使用，分割：2011,2\n",
      "2011 年， 2 月,有28天。\n"
     ]
    }
   ],
   "source": [
    "year_2,month = eval(input(\"请输入年份和月份，使用，分割：\"))\n",
    "big_month = [1,3,5,7,8,10,12]\n",
    "litter_month = [4,6,9,11]\n",
    "if year_2 % 4 ==0 and year_2 % 100 != 0 or year_2 % 400 == 0 :\n",
    "    if month in litter_month : \n",
    "        print(year_2,\"年，\",month,\"月,有31天。\")\n",
    "    elif month in big_month :\n",
    "        print(year_2,\"年，\",month,\"月,有30天。\")\n",
    "    else :\n",
    "        print(year_2,\"年，\",month,\"月,有29天。\")\n",
    "else :\n",
    "    if month in litter_month : \n",
    "        print(year_2,\"年，\",month,\"月,有31天。\")\n",
    "    elif month in big_month :\n",
    "        print(year_2,\"年，\",month,\"月,有30天。\")\n",
    "    else :\n",
    "        print(year_2,\"年，\",month,\"月,有28天。\")"
   ]
  },
  {
   "cell_type": "markdown",
   "metadata": {},
   "source": [
    "- 7\n",
    "![](../Photo/48.png)"
   ]
  },
  {
   "cell_type": "code",
   "execution_count": 6,
   "metadata": {},
   "outputs": [
    {
     "name": "stdout",
     "output_type": "stream",
     "text": [
      "请猜测硬币的正反1：正，0：反0\n",
      "恭喜你，猜对了！\n"
     ]
    }
   ],
   "source": [
    "import random\n",
    "coin = random.randint(0,1)\n",
    "input_coin = int(input(\"请猜测硬币的正反1：正，0：反\"))\n",
    "if coin == input_coin :\n",
    "    print(\"恭喜你，猜对了！\")\n",
    "else :\n",
    "    print(\"猜错了！\")"
   ]
  },
  {
   "cell_type": "markdown",
   "metadata": {},
   "source": [
    "- 8\n",
    "![](../Photo/49.png)"
   ]
  },
  {
   "cell_type": "code",
   "execution_count": 16,
   "metadata": {},
   "outputs": [
    {
     "name": "stdout",
     "output_type": "stream",
     "text": [
      "请输入，0：剪刀，1：石头，2：布 ：0\n",
      "我跟faker55开！！\n"
     ]
    }
   ],
   "source": [
    "import random\n",
    "compute = random.randint(0,2)\n",
    "input_3 = int(input(\"请输入，0：剪刀，1：石头，2：布 ：\"))\n",
    "if compile == 0 :\n",
    "    compute_quan = \"sissor\"\n",
    "elif compile == 1 :\n",
    "    compute_quan = \"rock\"\n",
    "elif compile == 2 :\n",
    "    compute_quan = \"paper\"\n",
    "elif input_3 == 0 :\n",
    "    input_3_quan = \"sissor\"\n",
    "elif input_3 == 1 :\n",
    "    input_3_quan = \"rock\"\n",
    "elif input_3 == 2 :\n",
    "    input_3_quan = \"paper\"\n",
    "if compute == input_3 :\n",
    "    print(\"The computer is\",compute_quan,\"you are\",input_3_quan,\"too .It is a draw.\")\n",
    "elif  input_3 - compute == 1 or input_3 - compute == -2 :\n",
    "    print(\"The computer is\",compute_quan,\"you are\",input_3_quan,\"You won.\")\n",
    "else :\n",
    "    print(\"The computer is\",compute_quan,\"you are\",input_3_quan,\"You lose.\")"
   ]
  },
  {
   "cell_type": "markdown",
   "metadata": {},
   "source": [
    "- 9\n",
    "![](../Photo/50.png)"
   ]
  },
  {
   "cell_type": "code",
   "execution_count": 23,
   "metadata": {},
   "outputs": [
    {
     "name": "stdout",
     "output_type": "stream",
     "text": [
      "请输入世纪，年，月，日：21,18,9,13\n",
      "这一天是星期 4\n"
     ]
    }
   ],
   "source": [
    "j,k,m,q = eval(input(\"请输入世纪，年，月，日：\"))\n",
    "if m == 1 :\n",
    "    m_2 == 13\n",
    "    k = k - 1\n",
    "elif m == 2 :\n",
    "    m == 14\n",
    "    k == k- 1\n",
    "h = (q + (26 * (m + 1) / 10) + k + (k / 4) + (j / 4)+5*j)%7\n",
    "h = round(h)\n",
    "if h == 0 :\n",
    "    print (\"这一天是星期天\")\n",
    "else :\n",
    "    print(\"这一天是星期\",h)"
   ]
  },
  {
   "cell_type": "markdown",
   "metadata": {},
   "source": [
    "- 10\n",
    "![](../Photo/51.png)"
   ]
  },
  {
   "cell_type": "code",
   "execution_count": null,
   "metadata": {},
   "outputs": [],
   "source": [
    "import random\n",
    "point_list = ['Ace','2','3','4','5','6','7','8','9','10','Jack','Queen','King']\n",
    "color = ['梅花','红桃','方块','黑桃']\n",
    "random_point = random.randint(0,12)\n",
    "random_color = random.randint(0,3)\n",
    "print(\"你抽到了\",color[random_color],point_list[random_point])"
   ]
  },
  {
   "cell_type": "markdown",
   "metadata": {},
   "source": [
    "- 11\n",
    "![](../Photo/52.png)"
   ]
  },
  {
   "cell_type": "code",
   "execution_count": 10,
   "metadata": {},
   "outputs": [
    {
     "name": "stdout",
     "output_type": "stream",
     "text": [
      "请输入一个正整数：1221\n",
      "3\n",
      "这是一个回文数\n"
     ]
    }
   ],
   "source": [
    "import math\n",
    "num = input(\"请输入一个正整数：\")\n",
    "i = len(num)-1\n",
    "j = 0\n",
    "while i!=0 :\n",
    "    if num[j] == num[i] :\n",
    "        j += j\n",
    "        i -= i            \n",
    "    else :\n",
    "        print(\"这个数不是回文数\")\n",
    "        break\n",
    "print(\"这是一个回文数\")"
   ]
  },
  {
   "cell_type": "markdown",
   "metadata": {},
   "source": [
    "12\n",
    "![](../Photo/53.png)"
   ]
  },
  {
   "cell_type": "code",
   "execution_count": 15,
   "metadata": {},
   "outputs": [
    {
     "name": "stdout",
     "output_type": "stream",
     "text": [
      "请输入三角形的三边长 1,1,2\n",
      "这三条边不构成三角形\n"
     ]
    }
   ],
   "source": [
    "import math\n",
    "x,y,z = eval(input(\"请输入三角形的三边长 \"))\n",
    "if x + y > z and x + z > y and y + z > x :\n",
    "    p = (x + y + z ) / 2\n",
    "    area = math.sqrt(p*(p-x)*(p-y)*(p-z))\n",
    "    print(\"三角形的面积为：\",area)\n",
    "else :\n",
    "    print(\"这三条边不构成三角形\")"
   ]
  },
  {
   "cell_type": "code",
   "execution_count": null,
   "metadata": {},
   "outputs": [],
   "source": []
  }
 ],
 "metadata": {
  "kernelspec": {
   "display_name": "Python 3",
   "language": "python",
   "name": "python3"
  },
  "language_info": {
   "codemirror_mode": {
    "name": "ipython",
    "version": 3
   },
   "file_extension": ".py",
   "mimetype": "text/x-python",
   "name": "python",
   "nbconvert_exporter": "python",
   "pygments_lexer": "ipython3",
   "version": "3.6.4"
  }
 },
 "nbformat": 4,
 "nbformat_minor": 2
}
