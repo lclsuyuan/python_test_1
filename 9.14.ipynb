{
 "cells": [
  {
   "cell_type": "markdown",
   "metadata": {},
   "source": [
    "# 函数\n",
    "\n",
    "- 函数可以用来定义可重复代码，组织和简化\n",
    "- 一般来说一个函数在实际开发中为一个小功能\n",
    "- 一个类为一个大功能\n",
    "- 同样函数的长度不要超过一屏"
   ]
  },
  {
   "cell_type": "markdown",
   "metadata": {},
   "source": [
    "## 定义一个函数\n",
    "\n",
    "def function_name(list of parameters):\n",
    "    \n",
    "    do something\n",
    "![](../Photo/69.png)\n",
    "- 以前使用的random 或者range 或者print.. 其实都是函数或者类"
   ]
  },
  {
   "cell_type": "code",
   "execution_count": 6,
   "metadata": {},
   "outputs": [
    {
     "name": "stdout",
     "output_type": "stream",
     "text": [
      "输入正数： 3\n",
      "奇数\n"
     ]
    }
   ],
   "source": [
    "def jiou (num1):\n",
    "    if num1 % 2 == 0 :\n",
    "        return 1\n",
    "    else :\n",
    "        return 0\n",
    "x = int (input(\"输入正数： \"))\n",
    "if jiou(x)==1 :\n",
    "    print (\"偶数\")\n",
    "else :\n",
    "    print(\"奇数\")"
   ]
  },
  {
   "cell_type": "code",
   "execution_count": 10,
   "metadata": {},
   "outputs": [
    {
     "name": "stdout",
     "output_type": "stream",
     "text": [
      "请输入数字，判断是否为素数6\n",
      "这是一个和数\n"
     ]
    }
   ],
   "source": [
    "def prime_number (num) :\n",
    "    for i in range(2,num//2) :\n",
    "        if num % i == 0 :\n",
    "            return 0\n",
    "    else :\n",
    "        return 1\n",
    "x = int(input(\"请输入数字，判断是否为素数\"))\n",
    "if prime_number(x) == 0 :\n",
    "    print(\"这是一个和数\")\n",
    "else :\n",
    "    print(\"这是一个素数\")"
   ]
  },
  {
   "cell_type": "code",
   "execution_count": 11,
   "metadata": {},
   "outputs": [
    {
     "name": "stdout",
     "output_type": "stream",
     "text": [
      "请输入数字2\n",
      "8 -6\n"
     ]
    }
   ],
   "source": [
    "def def1 (num) :\n",
    "    return num**3\n",
    "def def2 (num) :\n",
    "    return num - def1(num)\n",
    "x = int(input(\"请输入数字\"))\n",
    "print(def1(x),def2(x))"
   ]
  },
  {
   "cell_type": "code",
   "execution_count": 12,
   "metadata": {},
   "outputs": [
    {
     "name": "stdout",
     "output_type": "stream",
     "text": [
      "请输入数字6\n",
      "这个数的平方是： 36\n"
     ]
    }
   ],
   "source": [
    "def function_test_1 (x):\n",
    "    y = x**2\n",
    "    return y\n",
    "x = int(input(\"请输入数字\"))\n",
    "print(\"这个数的平方是：\",function_test_1(x))"
   ]
  },
  {
   "cell_type": "code",
   "execution_count": 5,
   "metadata": {},
   "outputs": [
    {
     "name": "stdout",
     "output_type": "stream",
     "text": [
      "请输入用户名：ad\n",
      "请输入密码a\n",
      "请重试\n",
      "请重试\n",
      "请重试\n",
      "你已经被锁定。\n"
     ]
    }
   ],
   "source": [
    "# def login (pass_) :\n",
    "#     if pass_ == \"lcl\" :\n",
    "#         return 1\n",
    "# user_ = input(\"请输入用户名：\")\n",
    "# password = input(\"请输入密码\")\n",
    "# for i in range(3):\n",
    "#     if login(password)==1:\n",
    "#         print(\"登陆成功\")\n",
    "#         break\n",
    "#     else :\n",
    "#         print(\"请重试\")\n",
    "# else :\n",
    "#     print(\"你已经被锁定。\")\n"
   ]
  },
  {
   "cell_type": "markdown",
   "metadata": {},
   "source": [
    "## 调用一个函数\n",
    "- functionName()\n",
    "- \"()\" 就代表调用"
   ]
  },
  {
   "cell_type": "markdown",
   "metadata": {},
   "source": [
    "![](../Photo/70.png)"
   ]
  },
  {
   "cell_type": "markdown",
   "metadata": {},
   "source": [
    "## 带返回值和不带返回值的函数\n",
    "- return 返回的内容\n",
    "- return 返回多个值\n",
    "- 一般情况下，在多个函数协同完成一个功能的时候，那么将会有返回值"
   ]
  },
  {
   "cell_type": "markdown",
   "metadata": {},
   "source": [
    "![](../Photo/71.png)\n",
    "\n",
    "- 当然也可以自定义返回None"
   ]
  },
  {
   "cell_type": "markdown",
   "metadata": {},
   "source": [
    "## EP：\n",
    "![](../Photo/72.png)"
   ]
  },
  {
   "cell_type": "markdown",
   "metadata": {},
   "source": [
    "## 类型和关键字参数\n",
    "- 普通参数\n",
    "- 多个参数\n",
    "- 默认值参数\n",
    "- 不定长参数"
   ]
  },
  {
   "cell_type": "markdown",
   "metadata": {},
   "source": [
    "## 普通参数"
   ]
  },
  {
   "cell_type": "markdown",
   "metadata": {},
   "source": [
    "## 多个参数"
   ]
  },
  {
   "cell_type": "markdown",
   "metadata": {},
   "source": [
    "## 默认值参数"
   ]
  },
  {
   "cell_type": "code",
   "execution_count": null,
   "metadata": {},
   "outputs": [],
   "source": [
    "#如果列表中有默认参数，同意放到参数列表的最后面。"
   ]
  },
  {
   "cell_type": "code",
   "execution_count": 5,
   "metadata": {},
   "outputs": [],
   "source": [
    "user = 'admin'\n",
    "password = \"lcl\"\n",
    "is_ok_and_y = False"
   ]
  },
  {
   "cell_type": "code",
   "execution_count": 6,
   "metadata": {},
   "outputs": [],
   "source": [
    "def login (user1,password1) :\n",
    "    if user1 == user and password1 == password :\n",
    "        print(\"登陆成功！\")\n",
    "    else :\n",
    "        print(\"登录失败！！！\")"
   ]
  },
  {
   "cell_type": "code",
   "execution_count": 7,
   "metadata": {
    "scrolled": true
   },
   "outputs": [],
   "source": [
    "def qidong():\n",
    "    global is_ok_and_y\n",
    "    if is_ok_and_y == False :\n",
    "        res = input(\"是否选择七天内免登陆？是（Y） \")\n",
    "        user1 = input(\"请输入用户名：\")\n",
    "        password1 = input(\"请输入密码：\")\n",
    "        if res == 'y' :\n",
    "            login(user1,password1)\n",
    "            is_ok_and_y == True\n",
    "        else :\n",
    "            login(user1,password1)\n",
    "    else :\n",
    "        print(\"登陆成功！！\")"
   ]
  },
  {
   "cell_type": "code",
   "execution_count": null,
   "metadata": {},
   "outputs": [
    {
     "name": "stdout",
     "output_type": "stream",
     "text": [
      "是否选择七天内免登陆？是（Y） y\n"
     ]
    }
   ],
   "source": [
    "# qidong()"
   ]
  },
  {
   "cell_type": "code",
   "execution_count": null,
   "metadata": {},
   "outputs": [],
   "source": []
  },
  {
   "cell_type": "markdown",
   "metadata": {},
   "source": [
    "## 强制命名"
   ]
  },
  {
   "cell_type": "markdown",
   "metadata": {},
   "source": [
    "## 不定长参数\n",
    "- \\*args\n",
    "> - 不定长，来多少装多少，不装也是可以的\n",
    "  - 返回的数据类型是元组\n",
    "  - args 名字是可以修改的，只是我们约定俗成的是args\n",
    "- \\**kwargs \n",
    "> - 返回的字典\n",
    "  - 输入的一定要是表达式（键值对）\n",
    "- name,\\*args,name2,\\**kwargs  使用参数名"
   ]
  },
  {
   "cell_type": "markdown",
   "metadata": {},
   "source": [
    "## 变量的作用域\n",
    "- 局部变量 local\n",
    "- 全局变量 global\n",
    "- globals 函数返回一个全局变量的字典，包括所有导入的变量\n",
    "- locals() 函数会以字典类型返回当前位置的全部局部变量。"
   ]
  },
  {
   "cell_type": "markdown",
   "metadata": {},
   "source": [
    "## 注意：\n",
    "- global ：在进行赋值操作的时候需要声明\n",
    "- 官方解释：This is because when you make an assignment to a variable in a scope, that variable becomes local to that scope and shadows any similarly named variable in the outer scope.\n",
    "- ![](../Photo/73.png)"
   ]
  },
  {
   "cell_type": "markdown",
   "metadata": {},
   "source": [
    "# Homework\n",
    "- 1\n",
    "![](../Photo/74.png)"
   ]
  },
  {
   "cell_type": "code",
   "execution_count": 11,
   "metadata": {},
   "outputs": [
    {
     "name": "stdout",
     "output_type": "stream",
     "text": [
      "1  5  12  22  35  51  70  92  117  145  \n",
      "176  210  247  287  330  376  425  477  532  590  \n",
      "651  715  782  852  925  1001  1080  1162  1247  1335  \n",
      "1426  1520  1617  1717  1820  1926  2035  2147  2262  2380  \n",
      "2501  2625  2752  2882  3015  3151  3290  3432  3577  3725  \n",
      "3876  4030  4187  4347  4510  4676  4845  5017  5192  5370  \n",
      "5551  5735  5922  6112  6305  6501  6700  6902  7107  7315  \n",
      "7526  7740  7957  8177  8400  8626  8855  9087  9322  9560  \n",
      "9801  10045  10292  10542  10795  11051  11310  11572  11837  12105  \n",
      "12376  12650  12927  13207  13490  13776  14065  14357  14652  "
     ]
    }
   ],
   "source": [
    "def getPentagonalNumber(n):\n",
    "    return n*(3*n-1)/2\n",
    "for i in range(1,100) :\n",
    "    print(round(getPentagonalNumber(i)),end='  ')\n",
    "    if i % 10 ==0 :\n",
    "        print()"
   ]
  },
  {
   "cell_type": "markdown",
   "metadata": {},
   "source": [
    "- 2 \n",
    "![](../Photo/75.png)"
   ]
  },
  {
   "cell_type": "code",
   "execution_count": 17,
   "metadata": {},
   "outputs": [
    {
     "name": "stdout",
     "output_type": "stream",
     "text": [
      "请输入一i个整数 ： 123\n",
      "这个数的各位数之和为： 6\n"
     ]
    }
   ],
   "source": [
    "def sumDigits(n) :\n",
    "    list = []\n",
    "    while n > 0 :\n",
    "        i = n % 10\n",
    "        list.append(i)\n",
    "        n = n // 10 \n",
    "    return sum(list)\n",
    "a = int(input(\"请输入一个整数 ： \"))\n",
    "print(\"这个数的各位数之和为：\",sumDigits(a))"
   ]
  },
  {
   "cell_type": "markdown",
   "metadata": {},
   "source": [
    "- 3\n",
    "![](../Photo/76.png)"
   ]
  },
  {
   "cell_type": "code",
   "execution_count": 25,
   "metadata": {},
   "outputs": [
    {
     "name": "stdout",
     "output_type": "stream",
     "text": [
      "请输入三个数：2,3,1\n",
      "它们的升序排列是 ：  [1, 2, 3]\n"
     ]
    }
   ],
   "source": [
    "def displaySortedNumbers (num1,num2,num3) :\n",
    "    list_3 = [num1,num2,num3]\n",
    "    list_3[0] = min(num1,num2,num3)\n",
    "    list_3[2] = max(num1,num2,num3)\n",
    "    list_3[1] = num1+num2+num3 - (list_3[0] + list_3[2])\n",
    "    return list_3\n",
    "n1,n2,n3 = eval(input(\"请输入三个数：\"))\n",
    "print(\"它们的升序排列是 ： \",displaySortedNumbers(n1,n2,n3))"
   ]
  },
  {
   "cell_type": "markdown",
   "metadata": {},
   "source": [
    "- 4\n",
    "![](../Photo/77.png)"
   ]
  },
  {
   "cell_type": "code",
   "execution_count": 4,
   "metadata": {},
   "outputs": [
    {
     "name": "stdout",
     "output_type": "stream",
     "text": [
      "请输入投资额（整数）：1000\n",
      "请输入年利率 ： 9\n",
      "1 \t 1090.0\n",
      "2 \t 1188.1000000000001\n",
      "3 \t 1295.0290000000002\n",
      "4 \t 1411.5816100000004\n",
      "5 \t 1538.6239549000004\n",
      "6 \t 1677.1001108410007\n",
      "7 \t 1828.039120816691\n",
      "8 \t 1992.5626416901935\n",
      "9 \t 2171.893279442311\n",
      "10 \t 2367.363674592119\n",
      "11 \t 2580.42640530541\n",
      "12 \t 2812.664781782897\n",
      "13 \t 3065.8046121433576\n",
      "14 \t 3341.7270272362603\n",
      "15 \t 3642.482459687524\n",
      "16 \t 3970.3058810594016\n",
      "17 \t 4327.633410354748\n",
      "18 \t 4717.120417286676\n",
      "19 \t 5141.661254842477\n",
      "20 \t 5604.4107677783\n",
      "21 \t 6108.807736878347\n",
      "22 \t 6658.6004331974\n",
      "23 \t 7257.874472185165\n",
      "24 \t 7911.083174681831\n",
      "25 \t 8623.080660403197\n",
      "26 \t 9399.157919839485\n",
      "27 \t 10245.08213262504\n",
      "28 \t 11167.139524561295\n",
      "29 \t 12172.182081771813\n",
      "30 \t 13267.678469131277\n"
     ]
    }
   ],
   "source": [
    "def futrueInvestmentValue (investmentAmout,monthlyInterestRate,years) :\n",
    "    f = investmentAmout*(1+monthlyInterestRate)**years\n",
    "    return f\n",
    "p = int(input(\"请输入投资额（整数）：\"))\n",
    "y_rate = int(input(\"请输入年利率 ： \"))\n",
    "for i in range (1,31) :\n",
    "    Futrue_Value = futrueInvestmentValue(p,y_rate/100,i)\n",
    "    print(i,'\\t',Futrue_Value)"
   ]
  },
  {
   "cell_type": "markdown",
   "metadata": {},
   "source": [
    "- 5\n",
    "![](../Photo/78.png)"
   ]
  },
  {
   "cell_type": "code",
   "execution_count": null,
   "metadata": {},
   "outputs": [],
   "source": []
  },
  {
   "cell_type": "code",
   "execution_count": 1,
   "metadata": {},
   "outputs": [
    {
     "name": "stdout",
     "output_type": "stream",
     "text": [
      "请输入启始字符：z\n",
      "请输入结束字符：a\n",
      "122 97\n",
      "a z\n",
      "请输入每行打印的字符个数：3\n",
      "a  b  c  \n",
      "d  e  f  \n",
      "g  h  i  \n",
      "j  k  l  \n",
      "m  n  o  \n",
      "p  q  r  \n",
      "s  t  u  \n",
      "v  w  x  \n",
      "y  z  "
     ]
    }
   ],
   "source": [
    "def printChars(ch1,ch2,numberPerLine):\n",
    "    for i in range(ord(ch1),ord(ch2)+1) :\n",
    "        print(chr(i),end='  ')\n",
    "        if i % numberPerLine == 0 :\n",
    "            print()\n",
    "c1 = input(\"请输入启始字符：\")\n",
    "c2 = input(\"请输入结束字符：\")\n",
    "c1_num = int(ord(c1))\n",
    "c2_num = int(ord(c2))\n",
    "if c1_num > c2_num :\n",
    "    t = c1\n",
    "    c1 = c2\n",
    "    c2 = t\n",
    "    #如果启始字符的编号>结束字符，函数无法执行，颠倒它们的位置\n",
    "number_5 = int(input(\"请输入每行打印的字符个数：\"))\n",
    "printChars(c1,c2,number_5)"
   ]
  },
  {
   "cell_type": "markdown",
   "metadata": {},
   "source": [
    "- 6\n",
    "![](../Photo/79.png)"
   ]
  },
  {
   "cell_type": "code",
   "execution_count": 5,
   "metadata": {},
   "outputs": [
    {
     "name": "stdout",
     "output_type": "stream",
     "text": [
      "2010 \t\t 365\n",
      "2011 \t\t 365\n",
      "2012 \t\t 366\n",
      "2013 \t\t 365\n",
      "2014 \t\t 365\n",
      "2015 \t\t 365\n",
      "2016 \t\t 366\n",
      "2017 \t\t 365\n",
      "2018 \t\t 365\n",
      "2019 \t\t 365\n",
      "2020 \t\t 366\n"
     ]
    }
   ],
   "source": [
    "def numberOfDaysInAYear(year):\n",
    "    if year % 4 == 0 and year % 100 != 0 or year % 400 ==0 :\n",
    "        return 366\n",
    "    else :\n",
    "        return 365\n",
    "for i in range(2010,2021):\n",
    "    print(i,\"\\t\\t\",numberOfDaysInAYear(i))"
   ]
  },
  {
   "cell_type": "markdown",
   "metadata": {},
   "source": [
    "- 7\n",
    "![](../Photo/80.png)"
   ]
  },
  {
   "cell_type": "code",
   "execution_count": 97,
   "metadata": {},
   "outputs": [
    {
     "name": "stdout",
     "output_type": "stream",
     "text": [
      "请输入两点的坐标0,3,4,0\n",
      "两点之间的距离是： 5.0\n"
     ]
    }
   ],
   "source": [
    "import math\n",
    "def distance (x1,x2,y1,y2) :\n",
    "    distance_1 = math.sqrt((x2-x1)**2+(y1-y2)**2)\n",
    "    return distance_1\n",
    "x1,x2,y1,y2 = eval(input(\"请输入两点的坐标\"))\n",
    "print(\"两点之间的距离是：\",distance(x1,x2,y1,y2))"
   ]
  },
  {
   "cell_type": "markdown",
   "metadata": {},
   "source": [
    "- 8\n",
    "![](../Photo/81.png)"
   ]
  },
  {
   "cell_type": "code",
   "execution_count": 43,
   "metadata": {},
   "outputs": [
    {
     "name": "stdout",
     "output_type": "stream",
     "text": [
      "请输入求取范围 ：31\n",
      "[2, 3, 5, 7, 11, 13, 17, 19, 23, 29, 31]\n",
      "2 \t 3\n",
      "3 \t 7\n",
      "5 \t 31\n"
     ]
    }
   ],
   "source": [
    "def sushu (num_8) :\n",
    "    list_su = []\n",
    "    for i in range(2,num_8+1):\n",
    "        for j in range(2,i):\n",
    "            if i % j == 0 :\n",
    "                break\n",
    "        else :\n",
    "            list_su.append(i)\n",
    "    else :\n",
    "        return list_su\n",
    "input_num = int(input(\"请输入求取范围 ：\"))\n",
    "list_num = sushu(input_num)\n",
    "print(list_num)\n",
    "for i in list_num :\n",
    "    if 2**i-1 in list_num :\n",
    "        print(i,'\\t',2**i-1)"
   ]
  },
  {
   "cell_type": "markdown",
   "metadata": {},
   "source": [
    "- 9\n",
    "![](../Photo/82.png)\n",
    "![](../Photo/83.png)"
   ]
  },
  {
   "cell_type": "code",
   "execution_count": 92,
   "metadata": {},
   "outputs": [
    {
     "name": "stdout",
     "output_type": "stream",
     "text": [
      "现在时间是; 18 年 09 月 14 日 18 点 51 分 00 秒\n"
     ]
    }
   ],
   "source": [
    "import time\n",
    "time_str = time.strftime('%y-%m-%d-%H-%M-%S',time.localtime(time.time()))\n",
    "time_list = time_str.split('-')\n",
    "print(\"现在时间是;\",time_list[0],'年',time_list[1],'月',time_list[2],'日',time_list[3],'点',time_list[4],'分',time_list[5],'秒')"
   ]
  },
  {
   "cell_type": "markdown",
   "metadata": {},
   "source": [
    "- 10\n",
    "![](../Photo/84.png)"
   ]
  },
  {
   "cell_type": "code",
   "execution_count": 105,
   "metadata": {},
   "outputs": [
    {
     "name": "stdout",
     "output_type": "stream",
     "text": [
      "你的点数是： 5  +  2  =  7\n",
      "你赢了！\n"
     ]
    }
   ],
   "source": [
    "import random\n",
    "list_win = [7,11]\n",
    "list_lose = [2,3,12]\n",
    "def fate ():\n",
    "    num_1 = random.randint(1,6)\n",
    "    int(num_1)\n",
    "    num_2 = random.randint(1,6)\n",
    "    int(num_2)\n",
    "    list_result =[]\n",
    "    if num_1 + num_2 in list_win :\n",
    "        return num_1,num_2,num_1+num_2,1\n",
    "    elif num_1 + num_2 in list_lose :\n",
    "        return num_1,num_2,num_1+num_2,0\n",
    "    else :\n",
    "        return num_1,num_2,num_1+num_2,2\n",
    "play_1 = fate()\n",
    "if play_1[3] == 1 :\n",
    "    print(\"你的点数是：\",play_1[0],' + ',play_1[1],' = ',play_1[2])\n",
    "    print(\"你赢了！\")\n",
    "elif play_1[3] == 0 :\n",
    "    print(\"你的点数是：\",play_1[0],' + ',play_1[1],' = ',play_1[2])\n",
    "    print(\"你输了！\")\n",
    "else :\n",
    "    print(\"你的点数是：\",play_1[0],' + ',play_1[1],' = ',play_1[2])\n",
    "    print('记录第一次结果为：',play_1[2])\n",
    "    play_2 = fate()\n",
    "    if play_1[2] == play_2[2] or play_2[3] == 1 :\n",
    "        print(\"第一次你的点数是：\",play_2[0],' + ',play_2[1],' = ',play_2[2])\n",
    "        print(\"你赢了了！\")\n",
    "    else :\n",
    "        print(\"第二次你的点数是：\",play_2[0],' + ',play_2[1],' = ',play_2[2])\n",
    "        print(\"你输了！\")\n",
    "\n"
   ]
  },
  {
   "cell_type": "markdown",
   "metadata": {},
   "source": [
    "- 11 \n",
    "### 去网上寻找如何用Python代码发送邮件"
   ]
  },
  {
   "cell_type": "code",
   "execution_count": null,
   "metadata": {},
   "outputs": [],
   "source": []
  },
  {
   "cell_type": "code",
   "execution_count": null,
   "metadata": {},
   "outputs": [],
   "source": []
  }
 ],
 "metadata": {
  "kernelspec": {
   "display_name": "Python 3",
   "language": "python",
   "name": "python3"
  },
  "language_info": {
   "codemirror_mode": {
    "name": "ipython",
    "version": 3
   },
   "file_extension": ".py",
   "mimetype": "text/x-python",
   "name": "python",
   "nbconvert_exporter": "python",
   "pygments_lexer": "ipython3",
   "version": "3.6.4"
  }
 },
 "nbformat": 4,
 "nbformat_minor": 2
}
